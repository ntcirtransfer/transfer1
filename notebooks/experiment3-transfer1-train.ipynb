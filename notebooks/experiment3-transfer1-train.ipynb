{
 "cells": [
  {
   "cell_type": "markdown",
   "id": "5a401f03",
   "metadata": {},
   "source": [
    "# Experiment on NTCIR-17 Transfer Reranking Task with Train Dataset\n",
    "\n",
    "This notebook shows how to train a BERT reranker using the train dataset of NTCIR-17 Transfer Task."
   ]
  },
  {
   "cell_type": "markdown",
   "id": "9ac2ca22",
   "metadata": {},
   "source": [
    "## Previous Step\n",
    "\n",
    "- `preprocess-transfer1-train.ipynb`\n",
    "\n",
    "## Requirement\n",
    "\n",
    "- Java v11"
   ]
  },
  {
   "cell_type": "markdown",
   "id": "11d85793",
   "metadata": {},
   "source": [
    "## Path"
   ]
  },
  {
   "cell_type": "code",
   "execution_count": 60,
   "id": "505f87ed",
   "metadata": {
    "tags": []
   },
   "outputs": [],
   "source": [
    "import os\n",
    "os.environ['INDEX'] = '../indexes/ntcir17-transfer/train'\n",
    "os.environ['RUN'] = '../runs/ntcir17-transfer/train'\n",
    "os.environ['MODEL'] = '../models'\n",
    "os.environ['VENDOR'] = '../vendors'"
   ]
  },
  {
   "cell_type": "markdown",
   "id": "9b8e0dd2",
   "metadata": {},
   "source": [
    "## Datasets"
   ]
  },
  {
   "cell_type": "code",
   "execution_count": null,
   "id": "7f374e48",
   "metadata": {
    "tags": []
   },
   "outputs": [],
   "source": [
    "import sys\n",
    "!{sys.executable} -m pip install -q -U ir_datasets"
   ]
  },
  {
   "cell_type": "code",
   "execution_count": 3,
   "id": "3728e546",
   "metadata": {
    "tags": []
   },
   "outputs": [],
   "source": [
    "sys.path.append(os.path.join(os.path.dirname(os.path.abspath('__file__')), '../datasets'))"
   ]
  },
  {
   "cell_type": "code",
   "execution_count": 4,
   "id": "b33980bf",
   "metadata": {
    "tags": []
   },
   "outputs": [],
   "source": [
    "import pandas as pd\n",
    "import ir_datasets\n",
    "import ntcir_transfer\n",
    "dataset = ir_datasets.load('ntcir-transfer/1/train')"
   ]
  },
  {
   "cell_type": "markdown",
   "id": "45451ba4",
   "metadata": {},
   "source": [
    "## GPU Checking"
   ]
  },
  {
   "cell_type": "code",
   "execution_count": 5,
   "id": "800e57d4",
   "metadata": {
    "tags": []
   },
   "outputs": [
    {
     "name": "stdout",
     "output_type": "stream",
     "text": [
      "GPU 0: NVIDIA RTX A6000\n"
     ]
    }
   ],
   "source": [
    "import torch\n",
    "for i in range(torch.cuda.device_count()):\n",
    "    print(f\"GPU {i}: {torch.cuda.get_device_name(i)}\")"
   ]
  },
  {
   "cell_type": "markdown",
   "id": "9b10dfd3",
   "metadata": {},
   "source": [
    "## Create training dataset for BERT finetuning\n",
    "\n",
    "- We split train topics into 70/13 (train/valid)\n",
    "- Valid set will be used for inference too"
   ]
  },
  {
   "cell_type": "code",
   "execution_count": null,
   "id": "9c2e0cd5",
   "metadata": {
    "tags": []
   },
   "outputs": [],
   "source": [
    "queries = pd.DataFrame(dataset.queries_iter())\n",
    "queries[0:5]"
   ]
  },
  {
   "cell_type": "code",
   "execution_count": null,
   "id": "c9708aeb",
   "metadata": {
    "tags": []
   },
   "outputs": [],
   "source": [
    "qrels = pd.DataFrame(dataset.qrels_iter())\n",
    "# relevance score ranges from 0 to 2. Convert 1,2 to 1 for fine-turning\n",
    "qrels['relevance'] = qrels['relevance'].apply(lambda x: 1 if x != 0 else 0)\n",
    "qrels[0:5]"
   ]
  },
  {
   "cell_type": "code",
   "execution_count": 8,
   "id": "aa191aeb",
   "metadata": {
    "tags": []
   },
   "outputs": [
    {
     "data": {
      "text/plain": [
       "261173"
      ]
     },
     "execution_count": 8,
     "metadata": {},
     "output_type": "execute_result"
    }
   ],
   "source": [
    "len(qrels)"
   ]
  },
  {
   "cell_type": "code",
   "execution_count": null,
   "id": "9f5f2639",
   "metadata": {
    "tags": []
   },
   "outputs": [],
   "source": [
    "query_qrels = pd.merge(queries, qrels, how='right', on='query_id')\n",
    "query_qrels[0:5]"
   ]
  },
  {
   "cell_type": "code",
   "execution_count": 10,
   "id": "b9c71a9a",
   "metadata": {
    "tags": []
   },
   "outputs": [
    {
     "data": {
      "text/plain": [
       "261173"
      ]
     },
     "execution_count": 10,
     "metadata": {},
     "output_type": "execute_result"
    }
   ],
   "source": [
    "len(query_qrels)"
   ]
  },
  {
   "cell_type": "code",
   "execution_count": null,
   "id": "b1c119af",
   "metadata": {
    "tags": []
   },
   "outputs": [],
   "source": [
    "docs = pd.DataFrame(dataset.docs_iter())\n",
    "docs[0:5]"
   ]
  },
  {
   "cell_type": "code",
   "execution_count": null,
   "id": "744b2ff0",
   "metadata": {
    "tags": []
   },
   "outputs": [],
   "source": [
    "query_qrels_docs = pd.merge(query_qrels, docs, how='left', on='doc_id')\n",
    "# Remove samplew where text was empty\n",
    "query_qrels_docs = query_qrels_docs[~query_qrels_docs['text_y'].isnull()]\n",
    "query_qrels_docs[0:5]"
   ]
  },
  {
   "cell_type": "code",
   "execution_count": 13,
   "id": "68937b7f",
   "metadata": {
    "tags": []
   },
   "outputs": [
    {
     "data": {
      "text/plain": [
       "261168"
      ]
     },
     "execution_count": 13,
     "metadata": {},
     "output_type": "execute_result"
    }
   ],
   "source": [
    "len(query_qrels_docs)"
   ]
  },
  {
   "cell_type": "code",
   "execution_count": 14,
   "id": "8248a332",
   "metadata": {
    "tags": []
   },
   "outputs": [],
   "source": [
    "train_df = query_qrels_docs[(query_qrels_docs['query_id'] >= '0001') & (query_qrels_docs['query_id'] <= '0070')]\n",
    "valid_df = query_qrels_docs[(query_qrels_docs['query_id'] >= '0071') & (query_qrels_docs['query_id'] <= '0083')]"
   ]
  },
  {
   "cell_type": "code",
   "execution_count": 15,
   "id": "c4ff8520",
   "metadata": {
    "tags": []
   },
   "outputs": [
    {
     "data": {
      "text/plain": [
       "(231320, 29848)"
      ]
     },
     "execution_count": 15,
     "metadata": {},
     "output_type": "execute_result"
    }
   ],
   "source": [
    "len(train_df), len(valid_df)"
   ]
  },
  {
   "cell_type": "code",
   "execution_count": 16,
   "id": "14bf95ea",
   "metadata": {
    "tags": []
   },
   "outputs": [],
   "source": [
    "train_df = train_df.copy()\n",
    "valid_df = valid_df.copy()\n",
    "train_df.loc[:, 'input_text'] = '[CLS] ' + train_df['text_x'] + ' [SEP] ' + train_df['text_y'] + ' [SEP]'\n",
    "valid_df.loc[:, 'input_text'] = '[CLS] ' + valid_df['text_x'] + ' [SEP] ' + valid_df['text_y'] + ' [SEP]'\n",
    "train_df = train_df.drop(['text_x', 'text_y'], axis=1)\n",
    "valid_df = valid_df.drop(['text_x', 'text_y'], axis=1)"
   ]
  },
  {
   "cell_type": "code",
   "execution_count": 17,
   "id": "82792e51",
   "metadata": {
    "tags": []
   },
   "outputs": [],
   "source": [
    "# Shuffle train set\n",
    "train_df = train_df.sample(frac=1, random_state=42).reset_index(drop=True)\n",
    "valid_df = valid_df.sample(frac=1, random_state=42).reset_index(drop=True)"
   ]
  },
  {
   "cell_type": "code",
   "execution_count": null,
   "id": "cad7ca17",
   "metadata": {
    "tags": []
   },
   "outputs": [],
   "source": [
    "train_df.head(2)"
   ]
  },
  {
   "cell_type": "markdown",
   "id": "7e34d3b9",
   "metadata": {
    "tags": []
   },
   "source": [
    "---\n",
    "## Training/Validation\n",
    "\n",
    "- This section shows how to finetune a BERT model as a reranker\n",
    "- Jump to \"Testing (Inference)\" section if you're interested in testing a BERT reranker trained by the organisers"
   ]
  },
  {
   "cell_type": "code",
   "execution_count": null,
   "id": "61877b18",
   "metadata": {},
   "outputs": [],
   "source": [
    "import sys\n",
    "!{sys.executable} -m pip install -q -U fugashi ipadic transformers[torch] accelerate===0.20.1"
   ]
  },
  {
   "cell_type": "code",
   "execution_count": 20,
   "id": "6e7f7a5f",
   "metadata": {
    "tags": []
   },
   "outputs": [],
   "source": [
    "from torch.utils.data import Dataset"
   ]
  },
  {
   "cell_type": "code",
   "execution_count": 21,
   "id": "6570cdda",
   "metadata": {
    "tags": []
   },
   "outputs": [],
   "source": [
    "class CustomDataset(Dataset):\n",
    "    def __init__(self, dataframe, tokenizer):\n",
    "        self.tokenizer = tokenizer\n",
    "        self.text = dataframe['input_text'].to_list()\n",
    "        self.labels = dataframe['relevance'].to_list()\n",
    "        \n",
    "    def __len__(self):\n",
    "        return len(self.text)\n",
    "\n",
    "    def __getitem__(self, idx):\n",
    "        text = self.text[idx]\n",
    "        inputs = self.tokenizer.encode_plus(\n",
    "            text,\n",
    "            None,\n",
    "            add_special_tokens=True,\n",
    "            max_length=512,\n",
    "            pad_to_max_length=True,\n",
    "            return_token_type_ids=True\n",
    "        )\n",
    "        return {\n",
    "            'input_ids': torch.tensor(inputs['input_ids'], dtype=torch.long),\n",
    "            'attention_mask': torch.tensor(inputs['attention_mask'], dtype=torch.long),\n",
    "            'labels': torch.tensor(self.labels[idx], dtype=torch.long)\n",
    "        }"
   ]
  },
  {
   "cell_type": "code",
   "execution_count": 22,
   "id": "7682ab78",
   "metadata": {
    "tags": []
   },
   "outputs": [
    {
     "name": "stderr",
     "output_type": "stream",
     "text": [
      "Some weights of the model checkpoint at cl-tohoku/bert-base-japanese were not used when initializing BertForSequenceClassification: ['cls.predictions.bias', 'cls.predictions.transform.LayerNorm.weight', 'cls.predictions.decoder.weight', 'cls.seq_relationship.bias', 'cls.predictions.transform.LayerNorm.bias', 'cls.seq_relationship.weight', 'cls.predictions.transform.dense.bias', 'cls.predictions.transform.dense.weight']\n",
      "- This IS expected if you are initializing BertForSequenceClassification from the checkpoint of a model trained on another task or with another architecture (e.g. initializing a BertForSequenceClassification model from a BertForPreTraining model).\n",
      "- This IS NOT expected if you are initializing BertForSequenceClassification from the checkpoint of a model that you expect to be exactly identical (initializing a BertForSequenceClassification model from a BertForSequenceClassification model).\n",
      "Some weights of BertForSequenceClassification were not initialized from the model checkpoint at cl-tohoku/bert-base-japanese and are newly initialized: ['classifier.weight', 'classifier.bias']\n",
      "You should probably TRAIN this model on a down-stream task to be able to use it for predictions and inference.\n"
     ]
    }
   ],
   "source": [
    "from transformers import AutoTokenizer, AutoModelForSequenceClassification\n",
    "\n",
    "tokenizer = AutoTokenizer.from_pretrained(\"cl-tohoku/bert-base-japanese\")\n",
    "model = AutoModelForSequenceClassification.from_pretrained(\"cl-tohoku/bert-base-japanese\")"
   ]
  },
  {
   "cell_type": "code",
   "execution_count": 23,
   "id": "5036ae42",
   "metadata": {
    "tags": []
   },
   "outputs": [],
   "source": [
    "# # Specify a particular CUDA device\n",
    "# import torch.nn as nn\n",
    "device = torch.device('cuda' if torch.cuda.is_available() else 'cpu')\n",
    "model = model.to(device)"
   ]
  },
  {
   "cell_type": "code",
   "execution_count": 24,
   "id": "1b1e2f09",
   "metadata": {
    "tags": []
   },
   "outputs": [],
   "source": [
    "train_data = CustomDataset(train_df, tokenizer)\n",
    "valid_data = CustomDataset(valid_df, tokenizer)"
   ]
  },
  {
   "cell_type": "markdown",
   "id": "09957adc",
   "metadata": {},
   "source": [
    "### Config\n",
    "\n",
    "- Change `per_device_train_batch_size` for your GPU spec\n",
    "- Validation is done every 1000 steps to show learning progress\n",
    "- Model is saved after 1 epoch"
   ]
  },
  {
   "cell_type": "code",
   "execution_count": 25,
   "id": "4b64eafd",
   "metadata": {
    "tags": []
   },
   "outputs": [],
   "source": [
    "from transformers import Trainer, TrainingArguments\n",
    "training_args = TrainingArguments(\n",
    "    output_dir=os.getenv('MODEL') + '/bert_with_transfer_train',\n",
    "    num_train_epochs=1,\n",
    "    per_device_train_batch_size=32,\n",
    "    warmup_steps=500,\n",
    "    weight_decay=0.01,\n",
    "    logging_dir=os.getenv('MODEL') + '/bert_with_transfer_train' + '/logs',\n",
    "    evaluation_strategy=\"steps\",\n",
    "    eval_steps=1000,\n",
    "    save_strategy=\"epoch\",\n",
    ")\n",
    "trainer = Trainer(\n",
    "    model=model,\n",
    "    args=training_args,\n",
    "    train_dataset=train_data,\n",
    "    eval_dataset=valid_data,\n",
    ")"
   ]
  },
  {
   "cell_type": "code",
   "execution_count": 26,
   "id": "e00ebe0f",
   "metadata": {
    "tags": []
   },
   "outputs": [
    {
     "name": "stderr",
     "output_type": "stream",
     "text": [
      "/opt/conda/lib/python3.8/site-packages/transformers/optimization.py:407: FutureWarning: This implementation of AdamW is deprecated and will be removed in a future version. Use the PyTorch implementation torch.optim.AdamW instead, or set `no_deprecation_warning=True` to disable this warning\n",
      "  warnings.warn(\n",
      "Truncation was not explicitly activated but `max_length` is provided a specific value, please use `truncation=True` to explicitly truncate examples to max length. Defaulting to 'longest_first' truncation strategy. If you encode pairs of sequences (GLUE-style) with the tokenizer you can select this strategy more precisely by providing a specific strategy to `truncation`.\n",
      "/opt/conda/lib/python3.8/site-packages/transformers/tokenization_utils_base.py:2364: FutureWarning: The `pad_to_max_length` argument is deprecated and will be removed in a future version, use `padding=True` or `padding='longest'` to pad to the longest sequence in the batch, or use `padding='max_length'` to pad to a max length. In this case, you can give a specific length with `max_length` (e.g. `max_length=45`) or leave max_length to None to pad to the maximal input size of the model (e.g. 512 for Bert).\n",
      "  warnings.warn(\n"
     ]
    },
    {
     "data": {
      "text/html": [
       "\n",
       "    <div>\n",
       "      \n",
       "      <progress value='7229' max='7229' style='width:300px; height:20px; vertical-align: middle;'></progress>\n",
       "      [7229/7229 1:57:29, Epoch 1/1]\n",
       "    </div>\n",
       "    <table border=\"1\" class=\"dataframe\">\n",
       "  <thead>\n",
       " <tr style=\"text-align: left;\">\n",
       "      <th>Step</th>\n",
       "      <th>Training Loss</th>\n",
       "      <th>Validation Loss</th>\n",
       "    </tr>\n",
       "  </thead>\n",
       "  <tbody>\n",
       "    <tr>\n",
       "      <td>1000</td>\n",
       "      <td>0.089500</td>\n",
       "      <td>0.030154</td>\n",
       "    </tr>\n",
       "    <tr>\n",
       "      <td>2000</td>\n",
       "      <td>0.070700</td>\n",
       "      <td>0.029405</td>\n",
       "    </tr>\n",
       "    <tr>\n",
       "      <td>3000</td>\n",
       "      <td>0.065800</td>\n",
       "      <td>0.030115</td>\n",
       "    </tr>\n",
       "    <tr>\n",
       "      <td>4000</td>\n",
       "      <td>0.054500</td>\n",
       "      <td>0.032583</td>\n",
       "    </tr>\n",
       "    <tr>\n",
       "      <td>5000</td>\n",
       "      <td>0.051400</td>\n",
       "      <td>0.029624</td>\n",
       "    </tr>\n",
       "    <tr>\n",
       "      <td>6000</td>\n",
       "      <td>0.045500</td>\n",
       "      <td>0.036807</td>\n",
       "    </tr>\n",
       "    <tr>\n",
       "      <td>7000</td>\n",
       "      <td>0.045200</td>\n",
       "      <td>0.031328</td>\n",
       "    </tr>\n",
       "  </tbody>\n",
       "</table><p>"
      ],
      "text/plain": [
       "<IPython.core.display.HTML object>"
      ]
     },
     "metadata": {},
     "output_type": "display_data"
    },
    {
     "name": "stdout",
     "output_type": "stream",
     "text": [
      "CPU times: user 1h 56min 52s, sys: 24.5 s, total: 1h 57min 16s\n",
      "Wall time: 1h 57min 34s\n"
     ]
    }
   ],
   "source": [
    "%%time\n",
    "\n",
    "# Train model\n",
    "trainer.train()\n",
    "\n",
    "# Save the best model to the disk\n",
    "trainer.save_model()\n",
    "\n",
    "# Free GPU memory\n",
    "del train_data\n",
    "torch.cuda.empty_cache()"
   ]
  },
  {
   "cell_type": "markdown",
   "id": "0fcd9a77",
   "metadata": {},
   "source": [
    "---\n",
    "## Testing (Inference)\n",
    "\n",
    "- This section shows how to use the trained model for reranking.\n",
    "- If you're downloading a BERT reranker provided by the oganisers, save the files to the `model/bert_with_transfer_train` folder\n",
    "- If you've trained the model by yourself, all the files should be available from the folder."
   ]
  },
  {
   "cell_type": "markdown",
   "id": "05a75cb4",
   "metadata": {},
   "source": [
    "### Load the saved model"
   ]
  },
  {
   "cell_type": "code",
   "execution_count": 27,
   "id": "305983da",
   "metadata": {
    "tags": []
   },
   "outputs": [],
   "source": [
    "from transformers import AutoModelForSequenceClassification, AutoTokenizer\n",
    "import torch\n",
    "\n",
    "# Initialize model and tokenizer\n",
    "model_path = os.getenv('MODEL') + '/bert_with_transfer_train'  # replace this with your model's path\n",
    "model = AutoModelForSequenceClassification.from_pretrained(model_path).to('cuda')  # if using GPU\n",
    "tokenizer = AutoTokenizer.from_pretrained(\"cl-tohoku/bert-base-japanese\")"
   ]
  },
  {
   "cell_type": "markdown",
   "id": "d3cb5c1a",
   "metadata": {},
   "source": [
    "### Prediction"
   ]
  },
  {
   "cell_type": "code",
   "execution_count": 29,
   "id": "5b3fa669",
   "metadata": {
    "tags": []
   },
   "outputs": [
    {
     "name": "stderr",
     "output_type": "stream",
     "text": [
      "/opt/conda/lib/python3.8/site-packages/transformers/tokenization_utils_base.py:2364: FutureWarning: The `pad_to_max_length` argument is deprecated and will be removed in a future version, use `padding=True` or `padding='longest'` to pad to the longest sequence in the batch, or use `padding='max_length'` to pad to a max length. In this case, you can give a specific length with `max_length` (e.g. `max_length=45`) or leave max_length to None to pad to the maximal input size of the model (e.g. 512 for Bert).\n",
      "  warnings.warn(\n"
     ]
    },
    {
     "data": {
      "text/html": [],
      "text/plain": [
       "<IPython.core.display.HTML object>"
      ]
     },
     "metadata": {},
     "output_type": "display_data"
    }
   ],
   "source": [
    "# Evaluation using Trainer.predict() with batch_size\n",
    "eval_predictions = trainer.predict(valid_data)"
   ]
  },
  {
   "cell_type": "code",
   "execution_count": 33,
   "id": "ef5d56e8",
   "metadata": {
    "tags": []
   },
   "outputs": [
    {
     "data": {
      "text/html": [
       "<div>\n",
       "<style scoped>\n",
       "    .dataframe tbody tr th:only-of-type {\n",
       "        vertical-align: middle;\n",
       "    }\n",
       "\n",
       "    .dataframe tbody tr th {\n",
       "        vertical-align: top;\n",
       "    }\n",
       "\n",
       "    .dataframe thead th {\n",
       "        text-align: right;\n",
       "    }\n",
       "</style>\n",
       "<table border=\"1\" class=\"dataframe\">\n",
       "  <thead>\n",
       "    <tr style=\"text-align: right;\">\n",
       "      <th></th>\n",
       "      <th>0</th>\n",
       "      <th>1</th>\n",
       "    </tr>\n",
       "  </thead>\n",
       "  <tbody>\n",
       "    <tr>\n",
       "      <th>0</th>\n",
       "      <td>0.999687</td>\n",
       "      <td>0.000313</td>\n",
       "    </tr>\n",
       "    <tr>\n",
       "      <th>1</th>\n",
       "      <td>0.999387</td>\n",
       "      <td>0.000613</td>\n",
       "    </tr>\n",
       "    <tr>\n",
       "      <th>2</th>\n",
       "      <td>0.998767</td>\n",
       "      <td>0.001233</td>\n",
       "    </tr>\n",
       "    <tr>\n",
       "      <th>3</th>\n",
       "      <td>0.999795</td>\n",
       "      <td>0.000205</td>\n",
       "    </tr>\n",
       "    <tr>\n",
       "      <th>4</th>\n",
       "      <td>0.998834</td>\n",
       "      <td>0.001166</td>\n",
       "    </tr>\n",
       "    <tr>\n",
       "      <th>...</th>\n",
       "      <td>...</td>\n",
       "      <td>...</td>\n",
       "    </tr>\n",
       "    <tr>\n",
       "      <th>29843</th>\n",
       "      <td>0.999726</td>\n",
       "      <td>0.000274</td>\n",
       "    </tr>\n",
       "    <tr>\n",
       "      <th>29844</th>\n",
       "      <td>0.998588</td>\n",
       "      <td>0.001412</td>\n",
       "    </tr>\n",
       "    <tr>\n",
       "      <th>29845</th>\n",
       "      <td>0.999769</td>\n",
       "      <td>0.000231</td>\n",
       "    </tr>\n",
       "    <tr>\n",
       "      <th>29846</th>\n",
       "      <td>0.999804</td>\n",
       "      <td>0.000196</td>\n",
       "    </tr>\n",
       "    <tr>\n",
       "      <th>29847</th>\n",
       "      <td>0.999812</td>\n",
       "      <td>0.000188</td>\n",
       "    </tr>\n",
       "  </tbody>\n",
       "</table>\n",
       "<p>29848 rows × 2 columns</p>\n",
       "</div>"
      ],
      "text/plain": [
       "              0         1\n",
       "0      0.999687  0.000313\n",
       "1      0.999387  0.000613\n",
       "2      0.998767  0.001233\n",
       "3      0.999795  0.000205\n",
       "4      0.998834  0.001166\n",
       "...         ...       ...\n",
       "29843  0.999726  0.000274\n",
       "29844  0.998588  0.001412\n",
       "29845  0.999769  0.000231\n",
       "29846  0.999804  0.000196\n",
       "29847  0.999812  0.000188\n",
       "\n",
       "[29848 rows x 2 columns]"
      ]
     },
     "execution_count": 33,
     "metadata": {},
     "output_type": "execute_result"
    }
   ],
   "source": [
    "# Obtain probabilities of all labels\n",
    "logits = torch.tensor(eval_predictions.predictions)\n",
    "probabilities = torch.softmax(logits, dim=-1)\n",
    "prediction_df = pd.DataFrame(probabilities.tolist())\n",
    "prediction_df"
   ]
  },
  {
   "cell_type": "markdown",
   "id": "b93ff488",
   "metadata": {},
   "source": [
    "## Reranking"
   ]
  },
  {
   "cell_type": "markdown",
   "id": "0ea940e6",
   "metadata": {},
   "source": [
    "### Prepare input data"
   ]
  },
  {
   "cell_type": "code",
   "execution_count": 36,
   "id": "675efd13",
   "metadata": {
    "tags": []
   },
   "outputs": [
    {
     "data": {
      "text/plain": [
       "12038"
      ]
     },
     "execution_count": 36,
     "metadata": {},
     "output_type": "execute_result"
    }
   ],
   "source": [
    "top1000 = pd.DataFrame(dataset.scoreddocs_iter())\n",
    "top1000_val = top1000[(top1000['query_id'] >= '0071') & (top1000['query_id'] <= '0083')]\n",
    "len(top1000_val)"
   ]
  },
  {
   "cell_type": "code",
   "execution_count": 77,
   "id": "b86f1597",
   "metadata": {
    "tags": []
   },
   "outputs": [
    {
     "data": {
      "text/html": [
       "<div>\n",
       "<style scoped>\n",
       "    .dataframe tbody tr th:only-of-type {\n",
       "        vertical-align: middle;\n",
       "    }\n",
       "\n",
       "    .dataframe tbody tr th {\n",
       "        vertical-align: top;\n",
       "    }\n",
       "\n",
       "    .dataframe thead th {\n",
       "        text-align: right;\n",
       "    }\n",
       "</style>\n",
       "<table border=\"1\" class=\"dataframe\">\n",
       "  <thead>\n",
       "    <tr style=\"text-align: right;\">\n",
       "      <th></th>\n",
       "      <th>query_id</th>\n",
       "      <th>doc_id</th>\n",
       "      <th>score</th>\n",
       "    </tr>\n",
       "  </thead>\n",
       "  <tbody>\n",
       "    <tr>\n",
       "      <th>65437</th>\n",
       "      <td>0071</td>\n",
       "      <td>gakkai-0000306411</td>\n",
       "      <td>32.141903</td>\n",
       "    </tr>\n",
       "    <tr>\n",
       "      <th>65438</th>\n",
       "      <td>0071</td>\n",
       "      <td>gakkai-0000307932</td>\n",
       "      <td>23.646512</td>\n",
       "    </tr>\n",
       "    <tr>\n",
       "      <th>65439</th>\n",
       "      <td>0071</td>\n",
       "      <td>gakkai-0000174085</td>\n",
       "      <td>21.992958</td>\n",
       "    </tr>\n",
       "    <tr>\n",
       "      <th>65440</th>\n",
       "      <td>0071</td>\n",
       "      <td>gakkai-0000280722</td>\n",
       "      <td>21.573175</td>\n",
       "    </tr>\n",
       "    <tr>\n",
       "      <th>65441</th>\n",
       "      <td>0071</td>\n",
       "      <td>gakkai-0000297523</td>\n",
       "      <td>20.313225</td>\n",
       "    </tr>\n",
       "  </tbody>\n",
       "</table>\n",
       "</div>"
      ],
      "text/plain": [
       "      query_id             doc_id      score\n",
       "65437     0071  gakkai-0000306411  32.141903\n",
       "65438     0071  gakkai-0000307932  23.646512\n",
       "65439     0071  gakkai-0000174085  21.992958\n",
       "65440     0071  gakkai-0000280722  21.573175\n",
       "65441     0071  gakkai-0000297523  20.313225"
      ]
     },
     "execution_count": 77,
     "metadata": {},
     "output_type": "execute_result"
    }
   ],
   "source": [
    "top1000_val.head(5)"
   ]
  },
  {
   "cell_type": "code",
   "execution_count": 38,
   "id": "e10cbe7d",
   "metadata": {
    "tags": []
   },
   "outputs": [
    {
     "data": {
      "text/plain": [
       "12038"
      ]
     },
     "execution_count": 38,
     "metadata": {},
     "output_type": "execute_result"
    }
   ],
   "source": [
    "top1000_val_query = pd.merge(top1000_val, queries, on='query_id', how='left')\n",
    "len(top1000_val_query)"
   ]
  },
  {
   "cell_type": "code",
   "execution_count": null,
   "id": "492264db",
   "metadata": {
    "tags": []
   },
   "outputs": [],
   "source": [
    "top1000_val_query.head(5)"
   ]
  },
  {
   "cell_type": "code",
   "execution_count": 40,
   "id": "cfa8e931",
   "metadata": {
    "tags": []
   },
   "outputs": [
    {
     "data": {
      "text/plain": [
       "12038"
      ]
     },
     "execution_count": 40,
     "metadata": {},
     "output_type": "execute_result"
    }
   ],
   "source": [
    "top1000_val_query_doc = pd.merge(top1000_val_query, docs, on='doc_id', how='left')\n",
    "len(top1000_val_query_doc)"
   ]
  },
  {
   "cell_type": "code",
   "execution_count": null,
   "id": "3c495da7",
   "metadata": {
    "tags": []
   },
   "outputs": [],
   "source": [
    "top1000_val_query_doc.head(5)"
   ]
  },
  {
   "cell_type": "code",
   "execution_count": 99,
   "id": "b37c6b59",
   "metadata": {
    "tags": []
   },
   "outputs": [
    {
     "data": {
      "text/plain": [
       "12038"
      ]
     },
     "execution_count": 99,
     "metadata": {},
     "output_type": "execute_result"
    }
   ],
   "source": [
    "top1000_val_data = top1000_val_query_doc.copy()\n",
    "top1000_val_data.loc[:, 'input_text'] = '[CLS] ' + top1000_val_data['text_x'] + ' [SEP] ' + top1000_val_data['text_y'] + ' [SEP]'\n",
    "top1000_val_data = top1000_val_data.drop(['text_x', 'text_y'], axis=1)\n",
    "top1000_val_data['relevance'] = 0 # Dummy data\n",
    "top1000_val_data.insert(1, 'Q0', 'Q0')\n",
    "top1000_val_data.insert(5, 'Run_ID', 'BM25') # User your run id\n",
    "top1000_val_data['rank'] = top1000_val_data.groupby('query_id')['score'].rank(method='first', ascending=False) - 1\n",
    "top1000_val_data['rank'] = top1000_val_data['rank'].astype(int)\n",
    "len(top1000_val_data)"
   ]
  },
  {
   "cell_type": "code",
   "execution_count": null,
   "id": "be0da8f1",
   "metadata": {
    "tags": []
   },
   "outputs": [],
   "source": [
    "top1000_val_data.head(5)"
   ]
  },
  {
   "cell_type": "code",
   "execution_count": 75,
   "id": "106b36f3",
   "metadata": {},
   "outputs": [],
   "source": [
    "test_data = CustomDataset(top1000_val_data, tokenizer)"
   ]
  },
  {
   "cell_type": "markdown",
   "id": "a2d4e73b",
   "metadata": {},
   "source": [
    "### Inference\n",
    "\n",
    "- Finetuned reranker estimate the probability of the labels (0 or 1) of new input_texts\n",
    "- We use the probability value of label 1 as a score of ranked documents"
   ]
  },
  {
   "cell_type": "code",
   "execution_count": 76,
   "id": "d9aee770",
   "metadata": {},
   "outputs": [
    {
     "name": "stderr",
     "output_type": "stream",
     "text": [
      "/opt/conda/lib/python3.8/site-packages/transformers/tokenization_utils_base.py:2364: FutureWarning: The `pad_to_max_length` argument is deprecated and will be removed in a future version, use `padding=True` or `padding='longest'` to pad to the longest sequence in the batch, or use `padding='max_length'` to pad to a max length. In this case, you can give a specific length with `max_length` (e.g. `max_length=45`) or leave max_length to None to pad to the maximal input size of the model (e.g. 512 for Bert).\n",
      "  warnings.warn(\n"
     ]
    },
    {
     "data": {
      "text/html": [],
      "text/plain": [
       "<IPython.core.display.HTML object>"
      ]
     },
     "metadata": {},
     "output_type": "display_data"
    },
    {
     "name": "stdout",
     "output_type": "stream",
     "text": [
      "CPU times: user 1min 45s, sys: 108 ms, total: 1min 45s\n",
      "Wall time: 1min 45s\n"
     ]
    }
   ],
   "source": [
    "%%time\n",
    "eval_predictions = trainer.predict(test_data)"
   ]
  },
  {
   "cell_type": "code",
   "execution_count": 120,
   "id": "3abde684",
   "metadata": {},
   "outputs": [
    {
     "data": {
      "text/html": [
       "<div>\n",
       "<style scoped>\n",
       "    .dataframe tbody tr th:only-of-type {\n",
       "        vertical-align: middle;\n",
       "    }\n",
       "\n",
       "    .dataframe tbody tr th {\n",
       "        vertical-align: top;\n",
       "    }\n",
       "\n",
       "    .dataframe thead th {\n",
       "        text-align: right;\n",
       "    }\n",
       "</style>\n",
       "<table border=\"1\" class=\"dataframe\">\n",
       "  <thead>\n",
       "    <tr style=\"text-align: right;\">\n",
       "      <th></th>\n",
       "      <th>0</th>\n",
       "      <th>1</th>\n",
       "    </tr>\n",
       "  </thead>\n",
       "  <tbody>\n",
       "    <tr>\n",
       "      <th>0</th>\n",
       "      <td>0.285297</td>\n",
       "      <td>0.714703</td>\n",
       "    </tr>\n",
       "    <tr>\n",
       "      <th>1</th>\n",
       "      <td>0.756743</td>\n",
       "      <td>0.243257</td>\n",
       "    </tr>\n",
       "    <tr>\n",
       "      <th>2</th>\n",
       "      <td>0.995781</td>\n",
       "      <td>0.004219</td>\n",
       "    </tr>\n",
       "    <tr>\n",
       "      <th>3</th>\n",
       "      <td>0.973803</td>\n",
       "      <td>0.026197</td>\n",
       "    </tr>\n",
       "    <tr>\n",
       "      <th>4</th>\n",
       "      <td>0.793503</td>\n",
       "      <td>0.206497</td>\n",
       "    </tr>\n",
       "    <tr>\n",
       "      <th>...</th>\n",
       "      <td>...</td>\n",
       "      <td>...</td>\n",
       "    </tr>\n",
       "    <tr>\n",
       "      <th>12033</th>\n",
       "      <td>0.999472</td>\n",
       "      <td>0.000528</td>\n",
       "    </tr>\n",
       "    <tr>\n",
       "      <th>12034</th>\n",
       "      <td>0.999775</td>\n",
       "      <td>0.000225</td>\n",
       "    </tr>\n",
       "    <tr>\n",
       "      <th>12035</th>\n",
       "      <td>0.998360</td>\n",
       "      <td>0.001640</td>\n",
       "    </tr>\n",
       "    <tr>\n",
       "      <th>12036</th>\n",
       "      <td>0.999361</td>\n",
       "      <td>0.000639</td>\n",
       "    </tr>\n",
       "    <tr>\n",
       "      <th>12037</th>\n",
       "      <td>0.999762</td>\n",
       "      <td>0.000238</td>\n",
       "    </tr>\n",
       "  </tbody>\n",
       "</table>\n",
       "<p>12038 rows × 2 columns</p>\n",
       "</div>"
      ],
      "text/plain": [
       "              0         1\n",
       "0      0.285297  0.714703\n",
       "1      0.756743  0.243257\n",
       "2      0.995781  0.004219\n",
       "3      0.973803  0.026197\n",
       "4      0.793503  0.206497\n",
       "...         ...       ...\n",
       "12033  0.999472  0.000528\n",
       "12034  0.999775  0.000225\n",
       "12035  0.998360  0.001640\n",
       "12036  0.999361  0.000639\n",
       "12037  0.999762  0.000238\n",
       "\n",
       "[12038 rows x 2 columns]"
      ]
     },
     "execution_count": 120,
     "metadata": {},
     "output_type": "execute_result"
    }
   ],
   "source": [
    "logits = torch.tensor(eval_predictions.predictions)\n",
    "probabilities = torch.softmax(logits, dim=-1)\n",
    "prediction_df = pd.DataFrame(probabilities.tolist())\n",
    "prediction_df"
   ]
  },
  {
   "cell_type": "code",
   "execution_count": null,
   "id": "7784505d",
   "metadata": {
    "tags": []
   },
   "outputs": [],
   "source": [
    "# Create a new DF for reranked results\n",
    "top1000_val_rerank_data = top1000_val_data.copy()\n",
    "top1000_val_rerank_data['score'] = pd.DataFrame(prediction_df)[1] # Replace original scores with label 1 prob\n",
    "top1000_val_rerank_data.head(5)"
   ]
  },
  {
   "cell_type": "markdown",
   "id": "50499e7a",
   "metadata": {
    "tags": []
   },
   "source": [
    "### Generate trev_eval format"
   ]
  },
  {
   "cell_type": "markdown",
   "id": "0e1da16a",
   "metadata": {},
   "source": [
    "#### BM25 Ranker"
   ]
  },
  {
   "cell_type": "code",
   "execution_count": 100,
   "id": "53474f9b",
   "metadata": {},
   "outputs": [
    {
     "data": {
      "text/plain": [
       "12038"
      ]
     },
     "execution_count": 100,
     "metadata": {},
     "output_type": "execute_result"
    }
   ],
   "source": [
    "top1000_val_data = top1000_val_data.drop('input_text', axis=1)\n",
    "top1000_val_data = top1000_val_data.drop('relevance', axis=1)\n",
    "# Change the order of fields\n",
    "cols = top1000_val_data.columns.tolist()\n",
    "col_index = cols.index('rank') - 2\n",
    "cols.insert(col_index, cols.pop(cols.index('rank')))\n",
    "top1000_val_data = top1000_val_data[cols]\n",
    "len(top1000_val_data)"
   ]
  },
  {
   "cell_type": "code",
   "execution_count": 101,
   "id": "54e08007",
   "metadata": {},
   "outputs": [
    {
     "data": {
      "text/html": [
       "<div>\n",
       "<style scoped>\n",
       "    .dataframe tbody tr th:only-of-type {\n",
       "        vertical-align: middle;\n",
       "    }\n",
       "\n",
       "    .dataframe tbody tr th {\n",
       "        vertical-align: top;\n",
       "    }\n",
       "\n",
       "    .dataframe thead th {\n",
       "        text-align: right;\n",
       "    }\n",
       "</style>\n",
       "<table border=\"1\" class=\"dataframe\">\n",
       "  <thead>\n",
       "    <tr style=\"text-align: right;\">\n",
       "      <th></th>\n",
       "      <th>query_id</th>\n",
       "      <th>Q0</th>\n",
       "      <th>doc_id</th>\n",
       "      <th>rank</th>\n",
       "      <th>score</th>\n",
       "      <th>Run_ID</th>\n",
       "    </tr>\n",
       "  </thead>\n",
       "  <tbody>\n",
       "    <tr>\n",
       "      <th>0</th>\n",
       "      <td>0071</td>\n",
       "      <td>Q0</td>\n",
       "      <td>gakkai-0000306411</td>\n",
       "      <td>0</td>\n",
       "      <td>32.141903</td>\n",
       "      <td>BM25</td>\n",
       "    </tr>\n",
       "    <tr>\n",
       "      <th>1</th>\n",
       "      <td>0071</td>\n",
       "      <td>Q0</td>\n",
       "      <td>gakkai-0000307932</td>\n",
       "      <td>1</td>\n",
       "      <td>23.646512</td>\n",
       "      <td>BM25</td>\n",
       "    </tr>\n",
       "    <tr>\n",
       "      <th>2</th>\n",
       "      <td>0071</td>\n",
       "      <td>Q0</td>\n",
       "      <td>gakkai-0000174085</td>\n",
       "      <td>2</td>\n",
       "      <td>21.992958</td>\n",
       "      <td>BM25</td>\n",
       "    </tr>\n",
       "    <tr>\n",
       "      <th>3</th>\n",
       "      <td>0071</td>\n",
       "      <td>Q0</td>\n",
       "      <td>gakkai-0000280722</td>\n",
       "      <td>3</td>\n",
       "      <td>21.573175</td>\n",
       "      <td>BM25</td>\n",
       "    </tr>\n",
       "    <tr>\n",
       "      <th>4</th>\n",
       "      <td>0071</td>\n",
       "      <td>Q0</td>\n",
       "      <td>gakkai-0000297523</td>\n",
       "      <td>4</td>\n",
       "      <td>20.313225</td>\n",
       "      <td>BM25</td>\n",
       "    </tr>\n",
       "  </tbody>\n",
       "</table>\n",
       "</div>"
      ],
      "text/plain": [
       "  query_id  Q0             doc_id  rank      score Run_ID\n",
       "0     0071  Q0  gakkai-0000306411     0  32.141903   BM25\n",
       "1     0071  Q0  gakkai-0000307932     1  23.646512   BM25\n",
       "2     0071  Q0  gakkai-0000174085     2  21.992958   BM25\n",
       "3     0071  Q0  gakkai-0000280722     3  21.573175   BM25\n",
       "4     0071  Q0  gakkai-0000297523     4  20.313225   BM25"
      ]
     },
     "execution_count": 101,
     "metadata": {},
     "output_type": "execute_result"
    }
   ],
   "source": [
    "top1000_val_data.head(5)"
   ]
  },
  {
   "cell_type": "markdown",
   "id": "1ff5e52d",
   "metadata": {},
   "source": [
    "#### BERT Reranker"
   ]
  },
  {
   "cell_type": "code",
   "execution_count": 91,
   "id": "7276eb4a",
   "metadata": {
    "tags": []
   },
   "outputs": [
    {
     "data": {
      "text/plain": [
       "12038"
      ]
     },
     "execution_count": 91,
     "metadata": {},
     "output_type": "execute_result"
    }
   ],
   "source": [
    "# Add a new column 'rank' that increases at tie-score cases within each 'topic_id'\n",
    "top1000_val_rerank_data['rank'] = top1000_val_rerank_data.groupby('query_id')['score'].rank(method='first', ascending=False) - 1\n",
    "top1000_val_rerank_data['rank'] = top1000_val_rerank_data['rank'].astype(int)\n",
    "# Sort the DataFrame first by 'topic_id' and then by 'rank'\n",
    "top1000_val_rerank_data = top1000_val_rerank_data.sort_values(['query_id', 'score'], ascending=[True, False])\n",
    "top1000_val_rerank_data.head(5)\n",
    "# Drop unnecessarily fields\n",
    "top1000_val_rerank_data = top1000_val_rerank_data.drop('input_text', axis=1)\n",
    "top1000_val_rerank_data = top1000_val_rerank_data.drop('relevance', axis=1)\n",
    "# Change Run ID\n",
    "top1000_val_rerank_data['Run_ID'] = 'BERT_Reranker' # User your run id\n",
    "# Change the order of fields\n",
    "cols = top1000_val_rerank_data.columns.tolist()\n",
    "col_index = cols.index('rank') - 2\n",
    "cols.insert(col_index, cols.pop(cols.index('rank')))\n",
    "top1000_val_rerank_data = top1000_val_rerank_data[cols]\n",
    "# Reset index\n",
    "top1000_val_rerank_data = top1000_val_rerank_data.reset_index(drop=True)\n",
    "len(top1000_val_rerank_data)"
   ]
  },
  {
   "cell_type": "code",
   "execution_count": 92,
   "id": "adf08376",
   "metadata": {},
   "outputs": [
    {
     "data": {
      "text/html": [
       "<div>\n",
       "<style scoped>\n",
       "    .dataframe tbody tr th:only-of-type {\n",
       "        vertical-align: middle;\n",
       "    }\n",
       "\n",
       "    .dataframe tbody tr th {\n",
       "        vertical-align: top;\n",
       "    }\n",
       "\n",
       "    .dataframe thead th {\n",
       "        text-align: right;\n",
       "    }\n",
       "</style>\n",
       "<table border=\"1\" class=\"dataframe\">\n",
       "  <thead>\n",
       "    <tr style=\"text-align: right;\">\n",
       "      <th></th>\n",
       "      <th>query_id</th>\n",
       "      <th>Q0</th>\n",
       "      <th>doc_id</th>\n",
       "      <th>rank</th>\n",
       "      <th>score</th>\n",
       "      <th>Run_ID</th>\n",
       "    </tr>\n",
       "  </thead>\n",
       "  <tbody>\n",
       "    <tr>\n",
       "      <th>0</th>\n",
       "      <td>0071</td>\n",
       "      <td>Q0</td>\n",
       "      <td>gakkai-0000306411</td>\n",
       "      <td>0</td>\n",
       "      <td>0.714703</td>\n",
       "      <td>BERT_Reranker</td>\n",
       "    </tr>\n",
       "    <tr>\n",
       "      <th>1</th>\n",
       "      <td>0071</td>\n",
       "      <td>Q0</td>\n",
       "      <td>gakkai-0000010792</td>\n",
       "      <td>1</td>\n",
       "      <td>0.361807</td>\n",
       "      <td>BERT_Reranker</td>\n",
       "    </tr>\n",
       "    <tr>\n",
       "      <th>2</th>\n",
       "      <td>0071</td>\n",
       "      <td>Q0</td>\n",
       "      <td>gakkai-0000307932</td>\n",
       "      <td>2</td>\n",
       "      <td>0.243257</td>\n",
       "      <td>BERT_Reranker</td>\n",
       "    </tr>\n",
       "    <tr>\n",
       "      <th>3</th>\n",
       "      <td>0071</td>\n",
       "      <td>Q0</td>\n",
       "      <td>gakkai-0000297523</td>\n",
       "      <td>3</td>\n",
       "      <td>0.206497</td>\n",
       "      <td>BERT_Reranker</td>\n",
       "    </tr>\n",
       "    <tr>\n",
       "      <th>4</th>\n",
       "      <td>0071</td>\n",
       "      <td>Q0</td>\n",
       "      <td>gakkai-0000037173</td>\n",
       "      <td>4</td>\n",
       "      <td>0.164665</td>\n",
       "      <td>BERT_Reranker</td>\n",
       "    </tr>\n",
       "    <tr>\n",
       "      <th>5</th>\n",
       "      <td>0071</td>\n",
       "      <td>Q0</td>\n",
       "      <td>gakkai-0000313261</td>\n",
       "      <td>5</td>\n",
       "      <td>0.154330</td>\n",
       "      <td>BERT_Reranker</td>\n",
       "    </tr>\n",
       "    <tr>\n",
       "      <th>6</th>\n",
       "      <td>0071</td>\n",
       "      <td>Q0</td>\n",
       "      <td>gakkai-0000307724</td>\n",
       "      <td>6</td>\n",
       "      <td>0.144163</td>\n",
       "      <td>BERT_Reranker</td>\n",
       "    </tr>\n",
       "    <tr>\n",
       "      <th>7</th>\n",
       "      <td>0071</td>\n",
       "      <td>Q0</td>\n",
       "      <td>gakkai-0000297686</td>\n",
       "      <td>7</td>\n",
       "      <td>0.140508</td>\n",
       "      <td>BERT_Reranker</td>\n",
       "    </tr>\n",
       "    <tr>\n",
       "      <th>8</th>\n",
       "      <td>0071</td>\n",
       "      <td>Q0</td>\n",
       "      <td>gakkai-0000306410</td>\n",
       "      <td>8</td>\n",
       "      <td>0.128755</td>\n",
       "      <td>BERT_Reranker</td>\n",
       "    </tr>\n",
       "    <tr>\n",
       "      <th>9</th>\n",
       "      <td>0071</td>\n",
       "      <td>Q0</td>\n",
       "      <td>gakkai-0000297687</td>\n",
       "      <td>9</td>\n",
       "      <td>0.118234</td>\n",
       "      <td>BERT_Reranker</td>\n",
       "    </tr>\n",
       "  </tbody>\n",
       "</table>\n",
       "</div>"
      ],
      "text/plain": [
       "  query_id  Q0             doc_id  rank     score         Run_ID\n",
       "0     0071  Q0  gakkai-0000306411     0  0.714703  BERT_Reranker\n",
       "1     0071  Q0  gakkai-0000010792     1  0.361807  BERT_Reranker\n",
       "2     0071  Q0  gakkai-0000307932     2  0.243257  BERT_Reranker\n",
       "3     0071  Q0  gakkai-0000297523     3  0.206497  BERT_Reranker\n",
       "4     0071  Q0  gakkai-0000037173     4  0.164665  BERT_Reranker\n",
       "5     0071  Q0  gakkai-0000313261     5  0.154330  BERT_Reranker\n",
       "6     0071  Q0  gakkai-0000307724     6  0.144163  BERT_Reranker\n",
       "7     0071  Q0  gakkai-0000297686     7  0.140508  BERT_Reranker\n",
       "8     0071  Q0  gakkai-0000306410     8  0.128755  BERT_Reranker\n",
       "9     0071  Q0  gakkai-0000297687     9  0.118234  BERT_Reranker"
      ]
     },
     "execution_count": 92,
     "metadata": {},
     "output_type": "execute_result"
    }
   ],
   "source": [
    "top1000_val_rerank_data.head(10)"
   ]
  },
  {
   "cell_type": "markdown",
   "id": "a628209d",
   "metadata": {},
   "source": [
    "## Experiment"
   ]
  },
  {
   "cell_type": "markdown",
   "id": "c9ddf4a4",
   "metadata": {},
   "source": [
    "### PyTerrier"
   ]
  },
  {
   "cell_type": "code",
   "execution_count": null,
   "id": "b5b2a95c",
   "metadata": {
    "tags": []
   },
   "outputs": [],
   "source": [
    "# Change JAVA_HOME to fit your environment\n",
    "JAVA_HOME = '/usr/lib/jvm/java-11-openjdk-amd64'\n",
    "os.environ['JAVA_HOME'] = JAVA_HOME\n",
    "os.getenv('JAVA_HOME')"
   ]
  },
  {
   "cell_type": "code",
   "execution_count": null,
   "id": "57870580",
   "metadata": {
    "tags": []
   },
   "outputs": [],
   "source": [
    "import sys\n",
    "!{sys.executable} -m pip install -q python-terrier"
   ]
  },
  {
   "cell_type": "code",
   "execution_count": 66,
   "id": "9d3dcdb6",
   "metadata": {
    "tags": []
   },
   "outputs": [
    {
     "name": "stdout",
     "output_type": "stream",
     "text": [
      "terrier-assemblies 5.7 jar-with-dependencies not found, downloading to /home/jovyan/.pyterrier...\n",
      "Done\n",
      "terrier-python-helper 0.0.7 jar not found, downloading to /home/jovyan/.pyterrier...\n",
      "Done\n"
     ]
    },
    {
     "name": "stderr",
     "output_type": "stream",
     "text": [
      "PyTerrier 0.9.2 has loaded Terrier 5.7 (built by craigm on 2022-11-10 18:30) and terrier-helper 0.0.7\n",
      "\n"
     ]
    }
   ],
   "source": [
    "import pandas as pd\n",
    "import pyterrier as pt\n",
    "if not pt.started():\n",
    "  pt.init(tqdm='notebook')"
   ]
  },
  {
   "cell_type": "code",
   "execution_count": 67,
   "id": "cc9159f7",
   "metadata": {
    "tags": []
   },
   "outputs": [],
   "source": [
    "dataset_pt = pt.get_dataset('irds:ntcir-transfer/1/train')"
   ]
  },
  {
   "cell_type": "code",
   "execution_count": 108,
   "id": "e5bdff9f",
   "metadata": {},
   "outputs": [
    {
     "data": {
      "text/html": [
       "<div>\n",
       "<style scoped>\n",
       "    .dataframe tbody tr th:only-of-type {\n",
       "        vertical-align: middle;\n",
       "    }\n",
       "\n",
       "    .dataframe tbody tr th {\n",
       "        vertical-align: top;\n",
       "    }\n",
       "\n",
       "    .dataframe thead th {\n",
       "        text-align: right;\n",
       "    }\n",
       "</style>\n",
       "<table border=\"1\" class=\"dataframe\">\n",
       "  <thead>\n",
       "    <tr style=\"text-align: right;\">\n",
       "      <th></th>\n",
       "      <th>qid</th>\n",
       "      <th>query</th>\n",
       "    </tr>\n",
       "  </thead>\n",
       "  <tbody>\n",
       "    <tr>\n",
       "      <th>70</th>\n",
       "      <td>0071</td>\n",
       "      <td></td>\n",
       "    </tr>\n",
       "    <tr>\n",
       "      <th>71</th>\n",
       "      <td>0072</td>\n",
       "      <td></td>\n",
       "    </tr>\n",
       "    <tr>\n",
       "      <th>72</th>\n",
       "      <td>0073</td>\n",
       "      <td></td>\n",
       "    </tr>\n",
       "    <tr>\n",
       "      <th>73</th>\n",
       "      <td>0074</td>\n",
       "      <td></td>\n",
       "    </tr>\n",
       "    <tr>\n",
       "      <th>74</th>\n",
       "      <td>0075</td>\n",
       "      <td></td>\n",
       "    </tr>\n",
       "    <tr>\n",
       "      <th>75</th>\n",
       "      <td>0076</td>\n",
       "      <td></td>\n",
       "    </tr>\n",
       "    <tr>\n",
       "      <th>76</th>\n",
       "      <td>0077</td>\n",
       "      <td></td>\n",
       "    </tr>\n",
       "    <tr>\n",
       "      <th>77</th>\n",
       "      <td>0078</td>\n",
       "      <td></td>\n",
       "    </tr>\n",
       "    <tr>\n",
       "      <th>78</th>\n",
       "      <td>0079</td>\n",
       "      <td></td>\n",
       "    </tr>\n",
       "    <tr>\n",
       "      <th>79</th>\n",
       "      <td>0080</td>\n",
       "      <td></td>\n",
       "    </tr>\n",
       "    <tr>\n",
       "      <th>80</th>\n",
       "      <td>0081</td>\n",
       "      <td></td>\n",
       "    </tr>\n",
       "    <tr>\n",
       "      <th>81</th>\n",
       "      <td>0082</td>\n",
       "      <td></td>\n",
       "    </tr>\n",
       "    <tr>\n",
       "      <th>82</th>\n",
       "      <td>0083</td>\n",
       "      <td></td>\n",
       "    </tr>\n",
       "  </tbody>\n",
       "</table>\n",
       "</div>"
      ],
      "text/plain": [
       "     qid query\n",
       "70  0071      \n",
       "71  0072      \n",
       "72  0073      \n",
       "73  0074      \n",
       "74  0075      \n",
       "75  0076      \n",
       "76  0077      \n",
       "77  0078      \n",
       "78  0079      \n",
       "79  0080      \n",
       "80  0081      \n",
       "81  0082      \n",
       "82  0083      "
      ]
     },
     "execution_count": 108,
     "metadata": {},
     "output_type": "execute_result"
    }
   ],
   "source": [
    "topics_val = dataset_pt.get_topics()\n",
    "topics_val = topics_val[(topics_val['qid'] >= '0071') & (topics_val['qid'] <= '0083')]\n",
    "topics_val"
   ]
  },
  {
   "cell_type": "code",
   "execution_count": 109,
   "id": "02759bc7",
   "metadata": {},
   "outputs": [
    {
     "data": {
      "text/html": [
       "<div>\n",
       "<style scoped>\n",
       "    .dataframe tbody tr th:only-of-type {\n",
       "        vertical-align: middle;\n",
       "    }\n",
       "\n",
       "    .dataframe tbody tr th {\n",
       "        vertical-align: top;\n",
       "    }\n",
       "\n",
       "    .dataframe thead th {\n",
       "        text-align: right;\n",
       "    }\n",
       "</style>\n",
       "<table border=\"1\" class=\"dataframe\">\n",
       "  <thead>\n",
       "    <tr style=\"text-align: right;\">\n",
       "      <th></th>\n",
       "      <th>name</th>\n",
       "      <th>nDCG@1</th>\n",
       "      <th>nDCG@5</th>\n",
       "      <th>nDCG@10</th>\n",
       "      <th>nDCG@20</th>\n",
       "      <th>RR</th>\n",
       "    </tr>\n",
       "  </thead>\n",
       "  <tbody>\n",
       "    <tr>\n",
       "      <th>0</th>\n",
       "      <td>BM25</td>\n",
       "      <td>0.153846</td>\n",
       "      <td>0.172408</td>\n",
       "      <td>0.181420</td>\n",
       "      <td>0.259110</td>\n",
       "      <td>0.340364</td>\n",
       "    </tr>\n",
       "    <tr>\n",
       "      <th>1</th>\n",
       "      <td>BERT Reranker</td>\n",
       "      <td>0.307692</td>\n",
       "      <td>0.217439</td>\n",
       "      <td>0.231301</td>\n",
       "      <td>0.267536</td>\n",
       "      <td>0.421571</td>\n",
       "    </tr>\n",
       "  </tbody>\n",
       "</table>\n",
       "</div>"
      ],
      "text/plain": [
       "            name    nDCG@1    nDCG@5   nDCG@10   nDCG@20        RR\n",
       "0           BM25  0.153846  0.172408  0.181420  0.259110  0.340364\n",
       "1  BERT Reranker  0.307692  0.217439  0.231301  0.267536  0.421571"
      ]
     },
     "execution_count": 109,
     "metadata": {},
     "output_type": "execute_result"
    }
   ],
   "source": [
    "from pyterrier.measures import *\n",
    "pt.Experiment(\n",
    "    [top1000_val_data, top1000_val_rerank_data],\n",
    "    topics=topics_val,\n",
    "    qrels=dataset_pt.get_qrels(),\n",
    "    filter_by_topics=True,\n",
    "    names=[\"BM25\", \"BERT Reranker\"],\n",
    "    eval_metrics=[nDCG@1, nDCG@5, nDCG@10, nDCG@20, MRR]\n",
    ")"
   ]
  },
  {
   "cell_type": "code",
   "execution_count": 112,
   "id": "d6ad6443",
   "metadata": {},
   "outputs": [],
   "source": [
    "from pyterrier.measures import *\n",
    "performance = pt.Experiment(\n",
    "    [top1000_val_data, top1000_val_rerank_data],\n",
    "    topics=topics_val,\n",
    "    qrels=dataset_pt.get_qrels(),\n",
    "    filter_by_topics=True,\n",
    "    names=[\"BM25\", \"BERT Reranker\"],\n",
    "    eval_metrics=[MRR],\n",
    "    perquery=True\n",
    ")"
   ]
  },
  {
   "cell_type": "code",
   "execution_count": 119,
   "id": "6c0c6800",
   "metadata": {},
   "outputs": [
    {
     "data": {
      "text/html": [
       "<div>\n",
       "<style scoped>\n",
       "    .dataframe tbody tr th:only-of-type {\n",
       "        vertical-align: middle;\n",
       "    }\n",
       "\n",
       "    .dataframe tbody tr th {\n",
       "        vertical-align: top;\n",
       "    }\n",
       "\n",
       "    .dataframe thead th {\n",
       "        text-align: right;\n",
       "    }\n",
       "</style>\n",
       "<table border=\"1\" class=\"dataframe\">\n",
       "  <thead>\n",
       "    <tr style=\"text-align: right;\">\n",
       "      <th>qid</th>\n",
       "      <th>0071</th>\n",
       "      <th>0072</th>\n",
       "      <th>0073</th>\n",
       "      <th>0074</th>\n",
       "      <th>0075</th>\n",
       "      <th>0076</th>\n",
       "      <th>0077</th>\n",
       "      <th>0078</th>\n",
       "      <th>0079</th>\n",
       "      <th>0080</th>\n",
       "      <th>0081</th>\n",
       "      <th>0082</th>\n",
       "      <th>0083</th>\n",
       "    </tr>\n",
       "    <tr>\n",
       "      <th>name</th>\n",
       "      <th></th>\n",
       "      <th></th>\n",
       "      <th></th>\n",
       "      <th></th>\n",
       "      <th></th>\n",
       "      <th></th>\n",
       "      <th></th>\n",
       "      <th></th>\n",
       "      <th></th>\n",
       "      <th></th>\n",
       "      <th></th>\n",
       "      <th></th>\n",
       "      <th></th>\n",
       "    </tr>\n",
       "  </thead>\n",
       "  <tbody>\n",
       "    <tr>\n",
       "      <th>BM25</th>\n",
       "      <td>1.0</td>\n",
       "      <td>0.090909</td>\n",
       "      <td>0.25</td>\n",
       "      <td>0.052632</td>\n",
       "      <td>0.034483</td>\n",
       "      <td>0.142857</td>\n",
       "      <td>0.200000</td>\n",
       "      <td>1.000000</td>\n",
       "      <td>0.5</td>\n",
       "      <td>0.5</td>\n",
       "      <td>0.076923</td>\n",
       "      <td>0.5</td>\n",
       "      <td>0.076923</td>\n",
       "    </tr>\n",
       "    <tr>\n",
       "      <th>BERT Reranker</th>\n",
       "      <td>1.0</td>\n",
       "      <td>0.166667</td>\n",
       "      <td>1.00</td>\n",
       "      <td>0.011628</td>\n",
       "      <td>0.062500</td>\n",
       "      <td>1.000000</td>\n",
       "      <td>0.142857</td>\n",
       "      <td>0.333333</td>\n",
       "      <td>1.0</td>\n",
       "      <td>0.2</td>\n",
       "      <td>0.004608</td>\n",
       "      <td>0.5</td>\n",
       "      <td>0.058824</td>\n",
       "    </tr>\n",
       "  </tbody>\n",
       "</table>\n",
       "</div>"
      ],
      "text/plain": [
       "qid            0071      0072  0073      0074      0075      0076      0077  \\\n",
       "name                                                                          \n",
       "BM25            1.0  0.090909  0.25  0.052632  0.034483  0.142857  0.200000   \n",
       "BERT Reranker   1.0  0.166667  1.00  0.011628  0.062500  1.000000  0.142857   \n",
       "\n",
       "qid                0078  0079  0080      0081  0082      0083  \n",
       "name                                                           \n",
       "BM25           1.000000   0.5   0.5  0.076923   0.5  0.076923  \n",
       "BERT Reranker  0.333333   1.0   0.2  0.004608   0.5  0.058824  "
      ]
     },
     "execution_count": 119,
     "metadata": {},
     "output_type": "execute_result"
    }
   ],
   "source": [
    "performance.pivot(index='name', columns='qid', values='value').sort_index(ascending=False)"
   ]
  },
  {
   "cell_type": "markdown",
   "id": "2a0db03e",
   "metadata": {},
   "source": [
    "---\n",
    "## Where can we go from here?\n",
    "\n",
    "- Increase epochs\n",
    "- Try different transfer models to finetune\n",
    "- Use the entire train set for training\n",
    "- Use external data for finetuning (before/after the train dataset)"
   ]
  }
 ],
 "metadata": {
  "environment": {
   "kernel": "python3",
   "name": "common-cpu.m102",
   "type": "gcloud",
   "uri": "gcr.io/deeplearning-platform-release/base-cpu:m102"
  },
  "kernelspec": {
   "display_name": "Python 3 (ipykernel)",
   "language": "python",
   "name": "python3"
  },
  "language_info": {
   "codemirror_mode": {
    "name": "ipython",
    "version": 3
   },
   "file_extension": ".py",
   "mimetype": "text/x-python",
   "name": "python",
   "nbconvert_exporter": "python",
   "pygments_lexer": "ipython3",
   "version": "3.9.7"
  }
 },
 "nbformat": 4,
 "nbformat_minor": 5
}
