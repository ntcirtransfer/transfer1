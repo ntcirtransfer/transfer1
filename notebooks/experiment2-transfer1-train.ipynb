{
 "cells": [
  {
   "cell_type": "markdown",
   "id": "004d3e92",
   "metadata": {},
   "source": [
    "# Experiment 2 on NTCIR-17 Transfer First Retrieval Task with Train Dataset\n",
    "\n",
    "This notebook shows how to apply BM25 and ANN using the train dataset of NTCIR-17 Transfer Task."
   ]
  },
  {
   "cell_type": "markdown",
   "id": "d0898376",
   "metadata": {},
   "source": [
    "## Previous Step\n",
    "\n",
    "- `preprocess-transfer1-train.ipynb`\n",
    "\n",
    "## Requirement\n",
    "\n",
    "- Java v11\n",
    "- Maven 3.3+"
   ]
  },
  {
   "cell_type": "markdown",
   "id": "e3f59415",
   "metadata": {},
   "source": [
    "## Path"
   ]
  },
  {
   "cell_type": "code",
   "execution_count": 1,
   "id": "34d80334",
   "metadata": {
    "tags": []
   },
   "outputs": [],
   "source": [
    "import os\n",
    "os.environ['INDEX'] = '../indexes/ntcir17-transfer/train/pyserini'\n",
    "os.environ['RUN'] = '../runs/ntcir17-transfer/train'\n",
    "os.environ['VENDOR'] = '../vendors'\n",
    "os.environ['TC'] = '../testcollections/ntcir/NTCIR-1'"
   ]
  },
  {
   "cell_type": "markdown",
   "id": "2460b98c",
   "metadata": {},
   "source": [
    "## Install Lucene"
   ]
  },
  {
   "cell_type": "code",
   "execution_count": 7,
   "id": "75ffdbe8",
   "metadata": {
    "tags": []
   },
   "outputs": [],
   "source": [
    "!mkdir -p $VENDOR"
   ]
  },
  {
   "cell_type": "code",
   "execution_count": 8,
   "id": "88865c58",
   "metadata": {
    "collapsed": true,
    "jupyter": {
     "outputs_hidden": true
    },
    "tags": []
   },
   "outputs": [
    {
     "name": "stdout",
     "output_type": "stream",
     "text": [
      "--2023-06-27 11:51:52--  https://dlcdn.apache.org/lucene/java/9.7.0/lucene-9.7.0.tgz\n",
      "Resolving dlcdn.apache.org (dlcdn.apache.org)... 151.101.2.132, 2a04:4e42::644\n",
      "Connecting to dlcdn.apache.org (dlcdn.apache.org)|151.101.2.132|:443... connected.\n",
      "HTTP request sent, awaiting response... 200 OK\n",
      "Length: 69162218 (66M) [application/x-gzip]\n",
      "Saving to: ‘../vendors/lucene-9.7.0.tgz’\n",
      "\n",
      "../vendors/lucene-9 100%[===================>]  65.96M  11.3MB/s    in 5.8s    \n",
      "\n",
      "2023-06-27 11:51:58 (11.3 MB/s) - ‘../vendors/lucene-9.7.0.tgz’ saved [69162218/69162218]\n",
      "\n"
     ]
    }
   ],
   "source": [
    "!wget -O $VENDOR/lucene-9.7.0.tgz \"https://dlcdn.apache.org/lucene/java/9.7.0/lucene-9.7.0.tgz\""
   ]
  },
  {
   "cell_type": "code",
   "execution_count": 9,
   "id": "f4c4e397",
   "metadata": {
    "collapsed": true,
    "jupyter": {
     "outputs_hidden": true
    },
    "tags": []
   },
   "outputs": [
    {
     "name": "stdout",
     "output_type": "stream",
     "text": [
      "lucene-9.7.0/\n",
      "...\n",
      "lucene-9.7.0/docs/misc/org/apache/lucene/misc/search/similarity/\n"
     ]
    }
   ],
   "source": [
    "!tar xvfz $VENDOR/lucene-9.7.0.tgz -C $VENDOR"
   ]
  },
  {
   "cell_type": "code",
   "execution_count": null,
   "id": "631faf60",
   "metadata": {},
   "outputs": [],
   "source": [
    "#!rm -f $VENDOR/lucene-9.7.0.tgz"
   ]
  },
  {
   "cell_type": "code",
   "execution_count": 2,
   "id": "8ad9c155",
   "metadata": {
    "tags": []
   },
   "outputs": [],
   "source": [
    "os.environ['LUCENE_HOME'] = os.getenv('VENDOR') + '/lucene-9.7.0'\n",
    "os.environ['CLASSPATH'] = os.getenv('LUCENE_HOME') + '/modules/lucene-core-9.7.0.jar'\n",
    "os.environ['CLASSPATH'] = os.getenv('CLASSPATH') + ':' + os.getenv('LUCENE_HOME') + '/modules/lucene-core-9.7.0.jar'\n",
    "os.environ['CLASSPATH'] = os.getenv('CLASSPATH') + ':' + os.getenv('LUCENE_HOME') + '/modules/lucene-queryparser-9.7.0.jar'\n",
    "os.environ['CLASSPATH'] = os.getenv('CLASSPATH') + ':' + os.getenv('LUCENE_HOME') + '/modules/lucene-analysis-common-9.7.0.jar'\n",
    "os.environ['CLASSPATH'] = os.getenv('CLASSPATH') + ':' + os.getenv('LUCENE_HOME') + '/modules/lucene-demo-9.7.0.jar'"
   ]
  },
  {
   "cell_type": "code",
   "execution_count": 62,
   "id": "8e8a5db9",
   "metadata": {
    "tags": []
   },
   "outputs": [
    {
     "name": "stdout",
     "output_type": "stream",
     "text": [
      "../vendors/lucene-9.7.0/modules/lucene-core-9.7.0.jar:../vendors/lucene-9.7.0/modules/lucene-core-9.7.0.jar:../vendors/lucene-9.7.0/modules/lucene-queryparser-9.7.0.jar:../vendors/lucene-9.7.0/modules/lucene-analysis-common-9.7.0.jar:../vendors/lucene-9.7.0/modules/lucene-demo-9.7.0.jar\n"
     ]
    }
   ],
   "source": [
    "!echo $CLASSPATH"
   ]
  },
  {
   "cell_type": "markdown",
   "id": "3371699f",
   "metadata": {},
   "source": [
    "## Install Anserini"
   ]
  },
  {
   "cell_type": "code",
   "execution_count": 14,
   "id": "e0b8e054",
   "metadata": {
    "collapsed": true,
    "jupyter": {
     "outputs_hidden": true
    },
    "tags": []
   },
   "outputs": [
    {
     "name": "stdout",
     "output_type": "stream",
     "text": [
      "Cloning into '../vendors/anserini'...\n",
      "remote: Enumerating objects: 28261, done.\u001b[K\n",
      "remote: Counting objects: 100% (2579/2579), done.\u001b[K\n",
      "remote: Compressing objects: 100% (494/494), done.\u001b[K\n",
      "remote: Total 28261 (delta 2195), reused 2371 (delta 2032), pack-reused 25682\u001b[K\n",
      "Receiving objects: 100% (28261/28261), 84.69 MiB | 6.59 MiB/s, done.\n",
      "Resolving deltas: 100% (18844/18844), done.\n",
      "Submodule 'tools' (https://github.com/castorini/anserini-tools.git) registered for path 'tools'\n",
      "Cloning into '/home/jovyan/transfer1/vendors/anserini/tools'...\n",
      "remote: Enumerating objects: 806, done.        \n",
      "remote: Counting objects: 100% (563/563), done.        \n",
      "remote: Compressing objects: 100% (482/482), done.        \n",
      "remote: Total 806 (delta 106), reused 527 (delta 80), pack-reused 243        \n",
      "Receiving objects: 100% (806/806), 139.32 MiB | 11.09 MiB/s, done.\n",
      "Resolving deltas: 100% (190/190), done.\n",
      "Submodule path 'tools': checked out '80691da60909ef0a123a0643e8af6552d741281e'\n"
     ]
    }
   ],
   "source": [
    "!git clone --recurse-submodules https://github.com/castorini/anserini.git $VENDOR/anserini"
   ]
  },
  {
   "cell_type": "code",
   "execution_count": 54,
   "id": "f19e572d",
   "metadata": {
    "collapsed": true,
    "jupyter": {
     "outputs_hidden": true
    },
    "tags": []
   },
   "outputs": [
    {
     "name": "stdout",
     "output_type": "stream",
     "text": [
      "WARNING: An illegal reflective access operation has occurred\n",
      "WARNING: Illegal reflective access by com.google.inject.internal.cglib.core.$ReflectUtils$1 (file:/usr/share/maven/lib/guice.jar) to method java.lang.ClassLoader.defineClass(java.lang.String,byte[],int,int,java.security.ProtectionDomain)\n",
      "WARNING: Please consider reporting this to the maintainers of com.google.inject.internal.cglib.core.$ReflectUtils$1\n",
      "WARNING: Use --illegal-access=warn to enable warnings of further illegal reflective access operations\n",
      "WARNING: All illegal access operations will be denied in a future release\n"
     ]
    }
   ],
   "source": [
    "!cd $VENDOR/anserini && mvn clean package appassembler:assemble -q -DskipTests -Dmaven.javadoc.skip=true"
   ]
  },
  {
   "cell_type": "code",
   "execution_count": 3,
   "id": "d407e578",
   "metadata": {
    "tags": []
   },
   "outputs": [],
   "source": [
    "os.environ['ANSERINI_CLASSPATH'] = os.getenv('VENDOR') + '/anserini/target/'"
   ]
  },
  {
   "cell_type": "code",
   "execution_count": 87,
   "id": "86de0995",
   "metadata": {
    "tags": []
   },
   "outputs": [
    {
     "name": "stdout",
     "output_type": "stream",
     "text": [
      "../vendors/anserini/target/\n"
     ]
    }
   ],
   "source": [
    "!echo $ANSERINI_CLASSPATH"
   ]
  },
  {
   "cell_type": "markdown",
   "id": "3f534ce1",
   "metadata": {},
   "source": [
    "## Install pyserini and other packages"
   ]
  },
  {
   "cell_type": "code",
   "execution_count": 122,
   "id": "06cfd6b8",
   "metadata": {
    "tags": []
   },
   "outputs": [],
   "source": [
    "import sys\n",
    "!{sys.executable} -m pip install -U -q pyserini torch transformers fugashi ipadic"
   ]
  },
  {
   "cell_type": "code",
   "execution_count": 18,
   "id": "aab18917",
   "metadata": {
    "tags": []
   },
   "outputs": [
    {
     "name": "stdout",
     "output_type": "stream",
     "text": [
      "Collecting package metadata (current_repodata.json): done\n",
      "Solving environment: done\n",
      "\n",
      "# All requested packages already installed.\n",
      "\n"
     ]
    }
   ],
   "source": [
    "!conda install -y -c pytorch faiss-gpu"
   ]
  },
  {
   "cell_type": "markdown",
   "id": "98b5a318",
   "metadata": {
    "tags": []
   },
   "source": [
    "## Install PyTerrier (for Evaluation)"
   ]
  },
  {
   "cell_type": "code",
   "execution_count": 5,
   "id": "a070d13d",
   "metadata": {
    "tags": []
   },
   "outputs": [
    {
     "data": {
      "text/plain": [
       "'/usr/lib/jvm/java-11-openjdk-amd64'"
      ]
     },
     "execution_count": 5,
     "metadata": {},
     "output_type": "execute_result"
    }
   ],
   "source": [
    "# Change JAVA_HOME to fit your environment\n",
    "JAVA_HOME = '/usr/lib/jvm/java-11-openjdk-amd64'\n",
    "os.environ['JAVA_HOME'] = JAVA_HOME\n",
    "os.getenv('JAVA_HOME')"
   ]
  },
  {
   "cell_type": "code",
   "execution_count": 6,
   "id": "258511c7",
   "metadata": {
    "tags": []
   },
   "outputs": [],
   "source": [
    "import sys\n",
    "!{sys.executable} -m pip install -U -q python-terrier"
   ]
  },
  {
   "cell_type": "code",
   "execution_count": 7,
   "id": "efeda5fb",
   "metadata": {
    "tags": []
   },
   "outputs": [
    {
     "name": "stderr",
     "output_type": "stream",
     "text": [
      "PyTerrier 0.9.2 has loaded Terrier 5.7 (built by craigm on 2022-11-10 18:30) and terrier-helper 0.0.7\n",
      "\n",
      "No etc/terrier.properties, using terrier.default.properties for bootstrap configuration.\n"
     ]
    }
   ],
   "source": [
    "import pandas as pd\n",
    "import pyterrier as pt\n",
    "if not pt.started():\n",
    "  pt.init(tqdm='notebook')"
   ]
  },
  {
   "cell_type": "markdown",
   "id": "ba0f474b",
   "metadata": {
    "tags": []
   },
   "source": [
    "## Datasets"
   ]
  },
  {
   "cell_type": "code",
   "execution_count": 8,
   "id": "2452956a",
   "metadata": {
    "tags": []
   },
   "outputs": [],
   "source": [
    "import sys\n",
    "!{sys.executable} -m pip install -U -q ir_datasets"
   ]
  },
  {
   "cell_type": "code",
   "execution_count": 9,
   "id": "f776e412",
   "metadata": {
    "tags": []
   },
   "outputs": [],
   "source": [
    "sys.path.append(os.path.join(os.path.dirname(os.path.abspath('__file__')), '../datasets'))"
   ]
  },
  {
   "cell_type": "code",
   "execution_count": 10,
   "id": "e91e25cf",
   "metadata": {
    "tags": []
   },
   "outputs": [],
   "source": [
    "import ir_datasets\n",
    "import ntcir_transfer\n",
    "dataset = ir_datasets.load('ntcir-transfer/1/train')"
   ]
  },
  {
   "cell_type": "markdown",
   "id": "b8c56549",
   "metadata": {
    "tags": []
   },
   "source": [
    "## Sparse Retrieval (BM25)"
   ]
  },
  {
   "cell_type": "markdown",
   "id": "c1775603",
   "metadata": {
    "tags": []
   },
   "source": [
    "### Indexing"
   ]
  },
  {
   "cell_type": "code",
   "execution_count": 22,
   "id": "d689a27e",
   "metadata": {
    "tags": []
   },
   "outputs": [
    {
     "name": "stdout",
     "output_type": "stream",
     "text": [
      "ntc1-j1\t\t\t     rel2_ntc1-j1_0001-0030.utf8.tsv\n",
      "ntc1-j1.utf8\t\t     rel2_ntc1-j1_0001-0083.utf8.tsv\n",
      "ntc1-j1.utf8.jsonl\t     rel2_ntc1-j1_0031-0083\n",
      "rel1_ntc1-j1_0001-0030\t     rel2_ntc1-j1_0031-0083.utf8\n",
      "rel1_ntc1-j1_0031-0083\t     rel2_ntc1-j1_0031-0083.utf8.tsv\n",
      "rel2_ntc1-j1_0001-0030\t     top1000.train.tsv\n",
      "rel2_ntc1-j1_0001-0030.utf8\n"
     ]
    }
   ],
   "source": [
    "!ls $TC/mlir/"
   ]
  },
  {
   "cell_type": "code",
   "execution_count": 30,
   "id": "ac885f65",
   "metadata": {
    "tags": []
   },
   "outputs": [],
   "source": [
    "!mkdir -p $TC/mlir/pyserini && \\\n",
    " cat $TC/mlir/ntc1-j1.utf8.jsonl | \\\n",
    " sed 's/\"doc_id\":/\"id\":/' | \\\n",
    " sed 's/\"text\":/\"contents\":/' > $TC/mlir/pyserini/jsonl/ntc1-j1.utf8.jsonl"
   ]
  },
  {
   "cell_type": "code",
   "execution_count": null,
   "id": "527af228",
   "metadata": {
    "tags": []
   },
   "outputs": [],
   "source": [
    "!head -1 $TC/mlir/pyserini/jsonl/ntc1-j1.utf8.jsonl"
   ]
  },
  {
   "cell_type": "code",
   "execution_count": 32,
   "id": "7dc2d362",
   "metadata": {
    "collapsed": true,
    "jupyter": {
     "outputs_hidden": true
    },
    "tags": []
   },
   "outputs": [
    {
     "name": "stdout",
     "output_type": "stream",
     "text": [
      "WARNING: sun.reflect.Reflection.getCallerClass is not supported. This will impact performance.\n",
      "2023-06-27 12:33:26,063 INFO  [main] index.IndexCollection (IndexCollection.java:380) - Setting log level to INFO\n",
      "2023-06-27 12:33:26,065 INFO  [main] index.IndexCollection (IndexCollection.java:383) - Starting indexer...\n",
      "2023-06-27 12:33:26,065 INFO  [main] index.IndexCollection (IndexCollection.java:384) - ============ Loading Parameters ============\n",
      "2023-06-27 12:33:26,065 INFO  [main] index.IndexCollection (IndexCollection.java:385) - DocumentCollection path: ../testcollections/ntcir/NTCIR-1/mlir/tmp\n",
      "2023-06-27 12:33:26,066 INFO  [main] index.IndexCollection (IndexCollection.java:386) - CollectionClass: JsonCollection\n",
      "2023-06-27 12:33:26,066 INFO  [main] index.IndexCollection (IndexCollection.java:387) - Generator: DefaultLuceneDocumentGenerator\n",
      "2023-06-27 12:33:26,067 INFO  [main] index.IndexCollection (IndexCollection.java:388) - Threads: 2\n",
      "2023-06-27 12:33:26,067 INFO  [main] index.IndexCollection (IndexCollection.java:389) - Language: ja\n",
      "2023-06-27 12:33:26,067 INFO  [main] index.IndexCollection (IndexCollection.java:390) - Stemmer: porter\n",
      "2023-06-27 12:33:26,068 INFO  [main] index.IndexCollection (IndexCollection.java:391) - Keep stopwords? false\n",
      "2023-06-27 12:33:26,068 INFO  [main] index.IndexCollection (IndexCollection.java:392) - Stopwords: null\n",
      "2023-06-27 12:33:26,068 INFO  [main] index.IndexCollection (IndexCollection.java:393) - Store positions? true\n",
      "2023-06-27 12:33:26,069 INFO  [main] index.IndexCollection (IndexCollection.java:394) - Store docvectors? true\n",
      "2023-06-27 12:33:26,069 INFO  [main] index.IndexCollection (IndexCollection.java:395) - Store document \"contents\" field? false\n",
      "2023-06-27 12:33:26,069 INFO  [main] index.IndexCollection (IndexCollection.java:396) - Store document \"raw\" field? true\n",
      "2023-06-27 12:33:26,070 INFO  [main] index.IndexCollection (IndexCollection.java:397) - Additional fields to index: []\n",
      "2023-06-27 12:33:26,070 INFO  [main] index.IndexCollection (IndexCollection.java:398) - Optimize (merge segments)? false\n",
      "2023-06-27 12:33:26,070 INFO  [main] index.IndexCollection (IndexCollection.java:399) - Whitelist: null\n",
      "2023-06-27 12:33:26,071 INFO  [main] index.IndexCollection (IndexCollection.java:400) - Pretokenized?: false\n",
      "2023-06-27 12:33:26,071 INFO  [main] index.IndexCollection (IndexCollection.java:401) - Index path: ../indexes/ntcir17-transfer/train/pyserini\n",
      "2023-06-27 12:33:26,073 INFO  [main] index.IndexCollection (IndexCollection.java:481) - ============ Indexing Collection ============\n",
      "2023-06-27 12:33:26,081 INFO  [main] index.IndexCollection (IndexCollection.java:459) - Using language-specific analyzer\n",
      "2023-06-27 12:33:26,081 INFO  [main] index.IndexCollection (IndexCollection.java:460) - Language: ja\n",
      "2023-06-27 12:33:26,192 INFO  [main] index.IndexCollection (IndexCollection.java:510) - Thread pool with 2 threads initialized.\n",
      "2023-06-27 12:33:26,193 INFO  [main] index.IndexCollection (IndexCollection.java:512) - Initializing collection in ../testcollections/ntcir/NTCIR-1/mlir/tmp\n",
      "2023-06-27 12:33:26,195 INFO  [main] index.IndexCollection (IndexCollection.java:521) - 1 file found\n",
      "2023-06-27 12:33:26,195 INFO  [main] index.IndexCollection (IndexCollection.java:522) - Starting to index...\n",
      "2023-06-27 12:34:26,198 INFO  [main] index.IndexCollection (IndexCollection.java:534) - 180,000 documents indexed\n",
      "2023-06-27 12:35:17,842 DEBUG [pool-2-thread-1] index.IndexCollection$LocalIndexerThread (IndexCollection.java:345) - tmp/ntc1-j1.utf8.jsonl: 332918 docs added.\n",
      "2023-06-27 12:35:27,350 INFO  [main] index.IndexCollection (IndexCollection.java:578) - Indexing Complete! 332,918 documents indexed\n",
      "2023-06-27 12:35:27,350 INFO  [main] index.IndexCollection (IndexCollection.java:579) - ============ Final Counter Values ============\n",
      "2023-06-27 12:35:27,351 INFO  [main] index.IndexCollection (IndexCollection.java:580) - indexed:          332,918\n",
      "2023-06-27 12:35:27,351 INFO  [main] index.IndexCollection (IndexCollection.java:581) - unindexable:            0\n",
      "2023-06-27 12:35:27,351 INFO  [main] index.IndexCollection (IndexCollection.java:582) - empty:                  0\n",
      "2023-06-27 12:35:27,351 INFO  [main] index.IndexCollection (IndexCollection.java:583) - skipped:                0\n",
      "2023-06-27 12:35:27,351 INFO  [main] index.IndexCollection (IndexCollection.java:584) - errors:                 0\n",
      "2023-06-27 12:35:27,355 INFO  [main] index.IndexCollection (IndexCollection.java:587) - Total 332,918 documents indexed in 00:02:01\n"
     ]
    }
   ],
   "source": [
    "!python -m pyserini.index.lucene \\\n",
    "  --collection JsonCollection \\\n",
    "  --input $TC/mlir/pyserini  \\\n",
    "  --language ja \\\n",
    "  --index $INDEX/sparse \\\n",
    "  --generator DefaultLuceneDocumentGenerator \\\n",
    "  --threads 2 \\\n",
    "  --storePositions --storeDocvectors --storeRaw"
   ]
  },
  {
   "cell_type": "markdown",
   "id": "6c11f308",
   "metadata": {
    "tags": []
   },
   "source": [
    "### Retrieval"
   ]
  },
  {
   "cell_type": "code",
   "execution_count": 34,
   "id": "c4a5cc32",
   "metadata": {
    "tags": []
   },
   "outputs": [
    {
     "name": "stdout",
     "output_type": "stream",
     "text": [
      "topic0001-0030\t\t   topic0001-0083.utf8.jsonl  topic0031-0083.utf8.jsonl\n",
      "topic0001-0030.utf8\t   topic0031-0083\n",
      "topic0001-0030.utf8.jsonl  topic0031-0083.utf8\n"
     ]
    }
   ],
   "source": [
    "!ls $TC/topics"
   ]
  },
  {
   "cell_type": "code",
   "execution_count": 25,
   "id": "6e95458e",
   "metadata": {
    "tags": []
   },
   "outputs": [],
   "source": [
    "!cat $TC/topics/topic0001-0083.utf8.jsonl | \\\n",
    " sed -r 's/.*: \"(.*)\", \"text\": \"(.*)\", \"description\": \"(.*)\".*/\\1\\t\\2/g' > $TC/topics/topic0001-0083.utf8.tsv"
   ]
  },
  {
   "cell_type": "code",
   "execution_count": null,
   "id": "d974fae6",
   "metadata": {
    "tags": []
   },
   "outputs": [],
   "source": [
    "!head $TC/topics/topic0001-0083.utf8.tsv"
   ]
  },
  {
   "cell_type": "code",
   "execution_count": 26,
   "id": "0cf6bd14",
   "metadata": {
    "tags": []
   },
   "outputs": [
    {
     "name": "stdout",
     "output_type": "stream",
     "text": [
      "Running ../testcollections/ntcir/NTCIR-1/topics/topic0001-0083.utf8.tsv topics, saving to ../runs/ntcir17-transfer/train/MyRun-BM25-pyserini.res...\n",
      "100%|███████████████████████████████████████████| 83/83 [00:12<00:00,  6.78it/s]\n"
     ]
    }
   ],
   "source": [
    "!python -m pyserini.search.lucene \\\n",
    "  --index $INDEX/sparse \\\n",
    "  --topics $TC/topics/topic0001-0083.utf8.tsv \\\n",
    "  --output $RUN/MyRun-BM25-pyserini.res \\\n",
    "  --language ja \\\n",
    "  --bm25"
   ]
  },
  {
   "cell_type": "code",
   "execution_count": 118,
   "id": "bce7deff",
   "metadata": {
    "tags": []
   },
   "outputs": [
    {
     "name": "stdout",
     "output_type": "stream",
     "text": [
      "1 Q0 gakkai-0000297977 1 4.415100 Anserini\n",
      "1 Q0 gakkai-0000064659 2 4.394100 Anserini\n",
      "1 Q0 gakkai-0000328806 3 4.382800 Anserini\n",
      "1 Q0 gakkai-0000245010 4 4.381500 Anserini\n",
      "1 Q0 gakkai-0000094695 5 4.371500 Anserini\n",
      "1 Q0 gakkai-0000193955 6 4.371499 Anserini\n",
      "1 Q0 gakkai-0000198139 7 4.369100 Anserini\n",
      "1 Q0 gakkai-0000225773 8 4.359300 Anserini\n",
      "1 Q0 gakkai-0000133457 9 4.352500 Anserini\n",
      "1 Q0 gakkai-0000099991 10 4.338900 Anserini\n"
     ]
    }
   ],
   "source": [
    "!head $RUN/MyRun-BM25-pyserini.res"
   ]
  },
  {
   "cell_type": "markdown",
   "id": "f03c260b",
   "metadata": {
    "tags": []
   },
   "source": [
    "### Evaluation"
   ]
  },
  {
   "cell_type": "code",
   "execution_count": 25,
   "id": "aa48bd4e",
   "metadata": {
    "tags": []
   },
   "outputs": [],
   "source": [
    "baselineDF = pt.io.read_results(os.getenv('RUN') + \"/MyRun-BM25-pyserini.res\")\n",
    "baselineDF['qid'] = baselineDF['qid'].str.zfill(4)"
   ]
  },
  {
   "cell_type": "code",
   "execution_count": 26,
   "id": "0eecd66c",
   "metadata": {
    "tags": []
   },
   "outputs": [
    {
     "data": {
      "text/html": [
       "<div>\n",
       "<style scoped>\n",
       "    .dataframe tbody tr th:only-of-type {\n",
       "        vertical-align: middle;\n",
       "    }\n",
       "\n",
       "    .dataframe tbody tr th {\n",
       "        vertical-align: top;\n",
       "    }\n",
       "\n",
       "    .dataframe thead th {\n",
       "        text-align: right;\n",
       "    }\n",
       "</style>\n",
       "<table border=\"1\" class=\"dataframe\">\n",
       "  <thead>\n",
       "    <tr style=\"text-align: right;\">\n",
       "      <th></th>\n",
       "      <th>qid</th>\n",
       "      <th>docno</th>\n",
       "      <th>rank</th>\n",
       "      <th>score</th>\n",
       "      <th>name</th>\n",
       "    </tr>\n",
       "  </thead>\n",
       "  <tbody>\n",
       "    <tr>\n",
       "      <th>0</th>\n",
       "      <td>0001</td>\n",
       "      <td>gakkai-0000297977</td>\n",
       "      <td>1</td>\n",
       "      <td>4.415100</td>\n",
       "      <td>Anserini</td>\n",
       "    </tr>\n",
       "    <tr>\n",
       "      <th>1</th>\n",
       "      <td>0001</td>\n",
       "      <td>gakkai-0000064659</td>\n",
       "      <td>2</td>\n",
       "      <td>4.394100</td>\n",
       "      <td>Anserini</td>\n",
       "    </tr>\n",
       "    <tr>\n",
       "      <th>2</th>\n",
       "      <td>0001</td>\n",
       "      <td>gakkai-0000328806</td>\n",
       "      <td>3</td>\n",
       "      <td>4.382800</td>\n",
       "      <td>Anserini</td>\n",
       "    </tr>\n",
       "    <tr>\n",
       "      <th>3</th>\n",
       "      <td>0001</td>\n",
       "      <td>gakkai-0000245010</td>\n",
       "      <td>4</td>\n",
       "      <td>4.381500</td>\n",
       "      <td>Anserini</td>\n",
       "    </tr>\n",
       "    <tr>\n",
       "      <th>4</th>\n",
       "      <td>0001</td>\n",
       "      <td>gakkai-0000094695</td>\n",
       "      <td>5</td>\n",
       "      <td>4.371500</td>\n",
       "      <td>Anserini</td>\n",
       "    </tr>\n",
       "    <tr>\n",
       "      <th>...</th>\n",
       "      <td>...</td>\n",
       "      <td>...</td>\n",
       "      <td>...</td>\n",
       "      <td>...</td>\n",
       "      <td>...</td>\n",
       "    </tr>\n",
       "    <tr>\n",
       "      <th>77787</th>\n",
       "      <td>0083</td>\n",
       "      <td>gakkai-0000073368</td>\n",
       "      <td>996</td>\n",
       "      <td>4.316998</td>\n",
       "      <td>Anserini</td>\n",
       "    </tr>\n",
       "    <tr>\n",
       "      <th>77788</th>\n",
       "      <td>0083</td>\n",
       "      <td>gakkai-0000116980</td>\n",
       "      <td>997</td>\n",
       "      <td>4.316997</td>\n",
       "      <td>Anserini</td>\n",
       "    </tr>\n",
       "    <tr>\n",
       "      <th>77789</th>\n",
       "      <td>0083</td>\n",
       "      <td>gakkai-0000241915</td>\n",
       "      <td>998</td>\n",
       "      <td>4.316996</td>\n",
       "      <td>Anserini</td>\n",
       "    </tr>\n",
       "    <tr>\n",
       "      <th>77790</th>\n",
       "      <td>0083</td>\n",
       "      <td>gakkai-0000308691</td>\n",
       "      <td>999</td>\n",
       "      <td>4.316995</td>\n",
       "      <td>Anserini</td>\n",
       "    </tr>\n",
       "    <tr>\n",
       "      <th>77791</th>\n",
       "      <td>0083</td>\n",
       "      <td>gakkai-0000320660</td>\n",
       "      <td>1000</td>\n",
       "      <td>4.316994</td>\n",
       "      <td>Anserini</td>\n",
       "    </tr>\n",
       "  </tbody>\n",
       "</table>\n",
       "<p>77792 rows × 5 columns</p>\n",
       "</div>"
      ],
      "text/plain": [
       "        qid              docno  rank     score      name\n",
       "0      0001  gakkai-0000297977     1  4.415100  Anserini\n",
       "1      0001  gakkai-0000064659     2  4.394100  Anserini\n",
       "2      0001  gakkai-0000328806     3  4.382800  Anserini\n",
       "3      0001  gakkai-0000245010     4  4.381500  Anserini\n",
       "4      0001  gakkai-0000094695     5  4.371500  Anserini\n",
       "...     ...                ...   ...       ...       ...\n",
       "77787  0083  gakkai-0000073368   996  4.316998  Anserini\n",
       "77788  0083  gakkai-0000116980   997  4.316997  Anserini\n",
       "77789  0083  gakkai-0000241915   998  4.316996  Anserini\n",
       "77790  0083  gakkai-0000308691   999  4.316995  Anserini\n",
       "77791  0083  gakkai-0000320660  1000  4.316994  Anserini\n",
       "\n",
       "[77792 rows x 5 columns]"
      ]
     },
     "execution_count": 26,
     "metadata": {},
     "output_type": "execute_result"
    }
   ],
   "source": [
    "baselineDF"
   ]
  },
  {
   "cell_type": "code",
   "execution_count": 108,
   "id": "f7b677a1",
   "metadata": {
    "tags": []
   },
   "outputs": [],
   "source": [
    "dataset_pt = pt.get_dataset('irds:ntcir-transfer/1/train')"
   ]
  },
  {
   "cell_type": "code",
   "execution_count": 124,
   "id": "bf08b27f",
   "metadata": {
    "tags": []
   },
   "outputs": [
    {
     "data": {
      "text/html": [
       "<div>\n",
       "<style scoped>\n",
       "    .dataframe tbody tr th:only-of-type {\n",
       "        vertical-align: middle;\n",
       "    }\n",
       "\n",
       "    .dataframe tbody tr th {\n",
       "        vertical-align: top;\n",
       "    }\n",
       "\n",
       "    .dataframe thead th {\n",
       "        text-align: right;\n",
       "    }\n",
       "</style>\n",
       "<table border=\"1\" class=\"dataframe\">\n",
       "  <thead>\n",
       "    <tr style=\"text-align: right;\">\n",
       "      <th></th>\n",
       "      <th>name</th>\n",
       "      <th>nDCG</th>\n",
       "    </tr>\n",
       "  </thead>\n",
       "  <tbody>\n",
       "    <tr>\n",
       "      <th>0</th>\n",
       "      <td>baselineDF</td>\n",
       "      <td>0.532006</td>\n",
       "    </tr>\n",
       "  </tbody>\n",
       "</table>\n",
       "</div>"
      ],
      "text/plain": [
       "         name      nDCG\n",
       "0  baselineDF  0.532006"
      ]
     },
     "execution_count": 124,
     "metadata": {},
     "output_type": "execute_result"
    }
   ],
   "source": [
    "from pyterrier.measures import *\n",
    "pt.Experiment(\n",
    "    [baselineDF],\n",
    "    topics=dataset_pt.get_topics(),\n",
    "    qrels=dataset_pt.get_qrels(),\n",
    "    names=[\"baselineDF\"],\n",
    "    eval_metrics=[nDCG]\n",
    ")"
   ]
  },
  {
   "cell_type": "markdown",
   "id": "a54dfd22",
   "metadata": {},
   "source": [
    "## Dense Retrieval (BERT + ANN)"
   ]
  },
  {
   "cell_type": "markdown",
   "id": "6833866d",
   "metadata": {
    "tags": []
   },
   "source": [
    "### Embedding corpus"
   ]
  },
  {
   "cell_type": "code",
   "execution_count": null,
   "id": "5ba81798",
   "metadata": {},
   "outputs": [],
   "source": [
    "import torch\n",
    "with torch.no_grad():\n",
    "    torch.cuda.empty_cache()"
   ]
  },
  {
   "cell_type": "code",
   "execution_count": 39,
   "id": "802d8ea6",
   "metadata": {
    "collapsed": true,
    "jupyter": {
     "outputs_hidden": true
    },
    "tags": []
   },
   "outputs": [
    {
     "name": "stdout",
     "output_type": "stream",
     "text": [
      "2023-06-28 06:18:53.377809: I tensorflow/core/platform/cpu_feature_guard.cc:193] This TensorFlow binary is optimized with oneAPI Deep Neural Network Library (oneDNN) to use the following CPU instructions in performance-critical operations:  AVX2 FMA\n",
      "To enable them in other operations, rebuild TensorFlow with the appropriate compiler flags.\n",
      "2023-06-28 06:18:53.657265: E tensorflow/stream_executor/cuda/cuda_blas.cc:2981] Unable to register cuBLAS factory: Attempting to register factory for plugin cuBLAS when one has already been registered\n",
      "2023-06-28 06:18:54.366504: W tensorflow/stream_executor/platform/default/dso_loader.cc:64] Could not load dynamic library 'libnvinfer.so.7'; dlerror: libnvinfer.so.7: cannot open shared object file: No such file or directory\n",
      "2023-06-28 06:18:54.366613: W tensorflow/stream_executor/platform/default/dso_loader.cc:64] Could not load dynamic library 'libnvinfer_plugin.so.7'; dlerror: libnvinfer_plugin.so.7: cannot open shared object file: No such file or directory\n",
      "2023-06-28 06:18:54.366645: W tensorflow/compiler/tf2tensorrt/utils/py_utils.cc:38] TF-TRT Warning: Cannot dlopen some TensorRT libraries. If you would like to use Nvidia GPU with TensorRT, please make sure the missing libraries mentioned above are installed properly.\n",
      "Some weights of the model checkpoint at cl-tohoku/bert-base-japanese were not used when initializing BertModel: ['cls.seq_relationship.bias', 'cls.seq_relationship.weight', 'cls.predictions.decoder.weight', 'cls.predictions.transform.LayerNorm.weight', 'cls.predictions.bias', 'cls.predictions.transform.LayerNorm.bias', 'cls.predictions.transform.dense.weight', 'cls.predictions.transform.dense.bias']\n",
      "- This IS expected if you are initializing BertModel from the checkpoint of a model trained on another task or with another architecture (e.g. initializing a BertForSequenceClassification model from a BertForPreTraining model).\n",
      "- This IS NOT expected if you are initializing BertModel from the checkpoint of a model that you expect to be exactly identical (initializing a BertForSequenceClassification model from a BertForSequenceClassification model).\n",
      "332918it [00:05, 57206.19it/s]\n",
      "100%|█████████████████████████████████████| 10404/10404 [31:32<00:00,  5.50it/s]\n",
      "CPU times: user 36.8 s, sys: 15.9 s, total: 52.7 s\n",
      "Wall time: 32min 19s\n"
     ]
    }
   ],
   "source": [
    "%%time\n",
    "!python -m pyserini.encode \\\n",
    "  input   --corpus $TC/mlir/pyserini/jsonl/ntc1-j1.utf8.jsonl \\\n",
    "          --fields text \\\n",
    "          --delimiter \"\\n\" \\\n",
    "          --shard-id 0 \\\n",
    "          --shard-num 1 \\\n",
    "  output  --embeddings $TC/mlir/pyserini/embedding \\\n",
    "          --to-faiss \\\n",
    "  encoder --encoder cl-tohoku/bert-base-japanese \\\n",
    "          --encoder-class auto \\\n",
    "          --fields text \\\n",
    "          --batch-size 32 \\\n",
    "          --max-length 512 \\\n",
    "          --device cuda:1 \\\n",
    "          --fp16"
   ]
  },
  {
   "cell_type": "code",
   "execution_count": 40,
   "id": "ae7f38c3",
   "metadata": {
    "tags": []
   },
   "outputs": [
    {
     "name": "stdout",
     "output_type": "stream",
     "text": [
      "total 982M\n",
      "-rw-rw-r-- 1 jovyan users 5.8M Jun 28 06:50 docid\n",
      "-rw-rw-r-- 1 jovyan users 976M Jun 28 06:50 index\n"
     ]
    }
   ],
   "source": [
    "!ls -lh $TC/mlir/pyserini/embedding"
   ]
  },
  {
   "cell_type": "markdown",
   "id": "183a6c9f",
   "metadata": {
    "tags": []
   },
   "source": [
    "### Indexing"
   ]
  },
  {
   "cell_type": "code",
   "execution_count": 50,
   "id": "5238e211",
   "metadata": {
    "collapsed": true,
    "jupyter": {
     "outputs_hidden": true
    },
    "tags": []
   },
   "outputs": [
    {
     "name": "stdout",
     "output_type": "stream",
     "text": [
      "(332918, 768)\n",
      "hnsw_add_vertices: adding 332918 elements on top of 0 (preset_levels=0)\n",
      "  max_level = 2\n",
      "Adding 7 elements at level 2\n",
      "Adding 1274 elements at level 1\n",
      "Adding 331637 elements at level 0\n",
      "Done in 664098.158 ms\n",
      "332918\n",
      "CPU times: user 14.1 s, sys: 1.75 s, total: 15.9 s\n",
      "Wall time: 11min 44s\n"
     ]
    }
   ],
   "source": [
    "%%time\n",
    "!python -m pyserini.index.faiss \\\n",
    "  --input $TC/mlir/pyserini/embedding \\\n",
    "  --output $INDEX/dense \\\n",
    "  --hnsw \\\n",
    "  --pq"
   ]
  },
  {
   "cell_type": "code",
   "execution_count": 51,
   "id": "0eadf270",
   "metadata": {
    "tags": []
   },
   "outputs": [
    {
     "name": "stdout",
     "output_type": "stream",
     "text": [
      "total 723M\n",
      "-rw-rw-r-- 1 jovyan users 5.8M Jun 28 07:02 docid\n",
      "-rw-rw-r-- 1 jovyan users 718M Jun 28 07:14 index\n"
     ]
    }
   ],
   "source": [
    "!ls -lh $INDEX/dense"
   ]
  },
  {
   "cell_type": "markdown",
   "id": "fdac98fd",
   "metadata": {},
   "source": [
    "### Retrieval (title only)"
   ]
  },
  {
   "cell_type": "code",
   "execution_count": 78,
   "id": "d09325a0",
   "metadata": {
    "tags": []
   },
   "outputs": [],
   "source": [
    "!cat $TC/topics/topic0001-0083.utf8.jsonl | \\\n",
    " sed -r 's/.*: \"(.*)\", \"text\": \"(.*)\", \"description\": \"(.*)\".*/\\1\\t\\2/g' > $TC/topics/topic0001-0083.utf8.tsv"
   ]
  },
  {
   "cell_type": "code",
   "execution_count": null,
   "id": "fdca192e",
   "metadata": {
    "tags": []
   },
   "outputs": [],
   "source": [
    "!head $TC/topics/topic0001-0083.utf8.tsv"
   ]
  },
  {
   "cell_type": "code",
   "execution_count": 87,
   "id": "24d78bd3",
   "metadata": {
    "collapsed": true,
    "jupyter": {
     "outputs_hidden": true
    },
    "tags": []
   },
   "outputs": [
    {
     "name": "stdout",
     "output_type": "stream",
     "text": [
      "2023-06-28 07:42:50.495187: I tensorflow/core/platform/cpu_feature_guard.cc:193] This TensorFlow binary is optimized with oneAPI Deep Neural Network Library (oneDNN) to use the following CPU instructions in performance-critical operations:  AVX2 FMA\n",
      "To enable them in other operations, rebuild TensorFlow with the appropriate compiler flags.\n",
      "2023-06-28 07:42:50.667351: E tensorflow/stream_executor/cuda/cuda_blas.cc:2981] Unable to register cuBLAS factory: Attempting to register factory for plugin cuBLAS when one has already been registered\n",
      "2023-06-28 07:42:51.236893: W tensorflow/stream_executor/platform/default/dso_loader.cc:64] Could not load dynamic library 'libnvinfer.so.7'; dlerror: libnvinfer.so.7: cannot open shared object file: No such file or directory\n",
      "2023-06-28 07:42:51.237070: W tensorflow/stream_executor/platform/default/dso_loader.cc:64] Could not load dynamic library 'libnvinfer_plugin.so.7'; dlerror: libnvinfer_plugin.so.7: cannot open shared object file: No such file or directory\n",
      "2023-06-28 07:42:51.237123: W tensorflow/compiler/tf2tensorrt/utils/py_utils.cc:38] TF-TRT Warning: Cannot dlopen some TensorRT libraries. If you would like to use Nvidia GPU with TensorRT, please make sure the missing libraries mentioned above are installed properly.\n",
      "Some weights of the model checkpoint at cl-tohoku/bert-base-japanese were not used when initializing BertModel: ['cls.seq_relationship.weight', 'cls.predictions.transform.LayerNorm.weight', 'cls.predictions.decoder.weight', 'cls.seq_relationship.bias', 'cls.predictions.transform.dense.bias', 'cls.predictions.transform.dense.weight', 'cls.predictions.transform.LayerNorm.bias', 'cls.predictions.bias']\n",
      "- This IS expected if you are initializing BertModel from the checkpoint of a model trained on another task or with another architecture (e.g. initializing a BertForSequenceClassification model from a BertForPreTraining model).\n",
      "- This IS NOT expected if you are initializing BertModel from the checkpoint of a model that you expect to be exactly identical (initializing a BertForSequenceClassification model from a BertForSequenceClassification model).\n",
      "Running ../testcollections/ntcir/NTCIR-1/topics/topic0001-0083.utf8.tsv topics, saving to ../runs/ntcir17-transfer/train/MyRun-ANN-pyserini.res...\n",
      "100%|███████████████████████████████████████████| 83/83 [00:01<00:00, 43.77it/s]\n",
      "CPU times: user 194 ms, sys: 103 ms, total: 297 ms\n",
      "Wall time: 13.2 s\n"
     ]
    }
   ],
   "source": [
    "%%time\n",
    "!python -m pyserini.search.faiss \\\n",
    "  --index $INDEX/dense \\\n",
    "  --topics $TC/topics/topic0001-0083.utf8.tsv \\\n",
    "  --output $RUN/MyRun-ANN-pyserini.res \\\n",
    "  --encoder-class auto \\\n",
    "  --encoder cl-tohoku/bert-base-japanese \\\n",
    "  --tokenizer cl-tohoku/bert-base-japanese \\\n",
    "  --device cuda:1 \\\n",
    "  --batch-size 32"
   ]
  },
  {
   "cell_type": "markdown",
   "id": "f2e90d22",
   "metadata": {},
   "source": [
    "### Evaluation 1"
   ]
  },
  {
   "cell_type": "code",
   "execution_count": 90,
   "id": "eec9cea0",
   "metadata": {
    "tags": []
   },
   "outputs": [],
   "source": [
    "denseDF = pt.io.read_results(os.getenv('RUN') + \"/MyRun-ANN-pyserini.res\")\n",
    "denseDF['qid'] = denseDF['qid'].str.zfill(4)"
   ]
  },
  {
   "cell_type": "code",
   "execution_count": 91,
   "id": "97bcbc60",
   "metadata": {
    "tags": []
   },
   "outputs": [
    {
     "data": {
      "text/html": [
       "<div>\n",
       "<style scoped>\n",
       "    .dataframe tbody tr th:only-of-type {\n",
       "        vertical-align: middle;\n",
       "    }\n",
       "\n",
       "    .dataframe tbody tr th {\n",
       "        vertical-align: top;\n",
       "    }\n",
       "\n",
       "    .dataframe thead th {\n",
       "        text-align: right;\n",
       "    }\n",
       "</style>\n",
       "<table border=\"1\" class=\"dataframe\">\n",
       "  <thead>\n",
       "    <tr style=\"text-align: right;\">\n",
       "      <th></th>\n",
       "      <th>qid</th>\n",
       "      <th>docno</th>\n",
       "      <th>rank</th>\n",
       "      <th>score</th>\n",
       "      <th>name</th>\n",
       "    </tr>\n",
       "  </thead>\n",
       "  <tbody>\n",
       "    <tr>\n",
       "      <th>0</th>\n",
       "      <td>0001</td>\n",
       "      <td>gakkai-0000117570</td>\n",
       "      <td>1</td>\n",
       "      <td>-101.680191</td>\n",
       "      <td>Faiss</td>\n",
       "    </tr>\n",
       "    <tr>\n",
       "      <th>1</th>\n",
       "      <td>0001</td>\n",
       "      <td>gakkai-0000267380</td>\n",
       "      <td>2</td>\n",
       "      <td>-111.181946</td>\n",
       "      <td>Faiss</td>\n",
       "    </tr>\n",
       "    <tr>\n",
       "      <th>2</th>\n",
       "      <td>0001</td>\n",
       "      <td>gakkai-0000285625</td>\n",
       "      <td>3</td>\n",
       "      <td>-116.075027</td>\n",
       "      <td>Faiss</td>\n",
       "    </tr>\n",
       "    <tr>\n",
       "      <th>3</th>\n",
       "      <td>0001</td>\n",
       "      <td>gakkai-0000288940</td>\n",
       "      <td>4</td>\n",
       "      <td>-117.044373</td>\n",
       "      <td>Faiss</td>\n",
       "    </tr>\n",
       "    <tr>\n",
       "      <th>4</th>\n",
       "      <td>0001</td>\n",
       "      <td>gakkai-0000127851</td>\n",
       "      <td>5</td>\n",
       "      <td>-117.356834</td>\n",
       "      <td>Faiss</td>\n",
       "    </tr>\n",
       "    <tr>\n",
       "      <th>...</th>\n",
       "      <td>...</td>\n",
       "      <td>...</td>\n",
       "      <td>...</td>\n",
       "      <td>...</td>\n",
       "      <td>...</td>\n",
       "    </tr>\n",
       "    <tr>\n",
       "      <th>82995</th>\n",
       "      <td>0083</td>\n",
       "      <td>gakkai-0000254192</td>\n",
       "      <td>996</td>\n",
       "      <td>-130.657593</td>\n",
       "      <td>Faiss</td>\n",
       "    </tr>\n",
       "    <tr>\n",
       "      <th>82996</th>\n",
       "      <td>0083</td>\n",
       "      <td>gakkai-0000308041</td>\n",
       "      <td>997</td>\n",
       "      <td>-130.659897</td>\n",
       "      <td>Faiss</td>\n",
       "    </tr>\n",
       "    <tr>\n",
       "      <th>82997</th>\n",
       "      <td>0083</td>\n",
       "      <td>gakkai-0000004119</td>\n",
       "      <td>998</td>\n",
       "      <td>-130.663055</td>\n",
       "      <td>Faiss</td>\n",
       "    </tr>\n",
       "    <tr>\n",
       "      <th>82998</th>\n",
       "      <td>0083</td>\n",
       "      <td>gakkai-0000107671</td>\n",
       "      <td>999</td>\n",
       "      <td>-130.673615</td>\n",
       "      <td>Faiss</td>\n",
       "    </tr>\n",
       "    <tr>\n",
       "      <th>82999</th>\n",
       "      <td>0083</td>\n",
       "      <td>gakkai-0000200158</td>\n",
       "      <td>1000</td>\n",
       "      <td>-130.676834</td>\n",
       "      <td>Faiss</td>\n",
       "    </tr>\n",
       "  </tbody>\n",
       "</table>\n",
       "<p>83000 rows × 5 columns</p>\n",
       "</div>"
      ],
      "text/plain": [
       "        qid              docno  rank       score   name\n",
       "0      0001  gakkai-0000117570     1 -101.680191  Faiss\n",
       "1      0001  gakkai-0000267380     2 -111.181946  Faiss\n",
       "2      0001  gakkai-0000285625     3 -116.075027  Faiss\n",
       "3      0001  gakkai-0000288940     4 -117.044373  Faiss\n",
       "4      0001  gakkai-0000127851     5 -117.356834  Faiss\n",
       "...     ...                ...   ...         ...    ...\n",
       "82995  0083  gakkai-0000254192   996 -130.657593  Faiss\n",
       "82996  0083  gakkai-0000308041   997 -130.659897  Faiss\n",
       "82997  0083  gakkai-0000004119   998 -130.663055  Faiss\n",
       "82998  0083  gakkai-0000107671   999 -130.673615  Faiss\n",
       "82999  0083  gakkai-0000200158  1000 -130.676834  Faiss\n",
       "\n",
       "[83000 rows x 5 columns]"
      ]
     },
     "execution_count": 91,
     "metadata": {},
     "output_type": "execute_result"
    }
   ],
   "source": [
    "denseDF"
   ]
  },
  {
   "cell_type": "code",
   "execution_count": 76,
   "id": "0e911c58",
   "metadata": {
    "tags": []
   },
   "outputs": [],
   "source": [
    "dataset_pt = pt.get_dataset('irds:ntcir-transfer/1/train')"
   ]
  },
  {
   "cell_type": "code",
   "execution_count": 95,
   "id": "fc247439",
   "metadata": {
    "tags": []
   },
   "outputs": [
    {
     "data": {
      "text/html": [
       "<div>\n",
       "<style scoped>\n",
       "    .dataframe tbody tr th:only-of-type {\n",
       "        vertical-align: middle;\n",
       "    }\n",
       "\n",
       "    .dataframe tbody tr th {\n",
       "        vertical-align: top;\n",
       "    }\n",
       "\n",
       "    .dataframe thead th {\n",
       "        text-align: right;\n",
       "    }\n",
       "</style>\n",
       "<table border=\"1\" class=\"dataframe\">\n",
       "  <thead>\n",
       "    <tr style=\"text-align: right;\">\n",
       "      <th></th>\n",
       "      <th>name</th>\n",
       "      <th>nDCG</th>\n",
       "    </tr>\n",
       "  </thead>\n",
       "  <tbody>\n",
       "    <tr>\n",
       "      <th>0</th>\n",
       "      <td>BM25</td>\n",
       "      <td>0.532006</td>\n",
       "    </tr>\n",
       "    <tr>\n",
       "      <th>1</th>\n",
       "      <td>ANN(title)</td>\n",
       "      <td>0.008415</td>\n",
       "    </tr>\n",
       "  </tbody>\n",
       "</table>\n",
       "</div>"
      ],
      "text/plain": [
       "         name      nDCG\n",
       "0        BM25  0.532006\n",
       "1  ANN(title)  0.008415"
      ]
     },
     "execution_count": 95,
     "metadata": {},
     "output_type": "execute_result"
    }
   ],
   "source": [
    "from pyterrier.measures import *\n",
    "pt.Experiment(\n",
    "    [baselineDF, denseDF],\n",
    "    topics=dataset_pt.get_topics(),\n",
    "    qrels=dataset_pt.get_qrels(),\n",
    "    names=[\"BM25\", \"ANN(title)\"],\n",
    "    eval_metrics=[nDCG]\n",
    ")"
   ]
  },
  {
   "cell_type": "markdown",
   "id": "0f1453e1",
   "metadata": {},
   "source": [
    "### Retrieval (title + description)\n",
    "\n",
    "**NOTE:** Only the title field is provided in the Dense First Stage Retrieval subtask at NTCIR-17 Transfer Task. The performance shown in this section is for reference only."
   ]
  },
  {
   "cell_type": "code",
   "execution_count": 80,
   "id": "3682a3a5",
   "metadata": {
    "tags": []
   },
   "outputs": [],
   "source": [
    "!cat $TC/topics/topic0001-0083.utf8.jsonl | \\\n",
    " sed -r 's/.*: \"(.*)\", \"text\": \"(.*)\", \"description\": \"(.*)\".*/\\1\\t\\2 \\3/g' > $TC/topics/topic-td-0001-0083.utf8.tsv"
   ]
  },
  {
   "cell_type": "code",
   "execution_count": null,
   "id": "95465db1",
   "metadata": {
    "tags": []
   },
   "outputs": [],
   "source": [
    "!head $TC/topics/topic-td-0001-0083.utf8.tsv"
   ]
  },
  {
   "cell_type": "code",
   "execution_count": 83,
   "id": "d80e357f",
   "metadata": {
    "collapsed": true,
    "jupyter": {
     "outputs_hidden": true
    },
    "tags": []
   },
   "outputs": [
    {
     "name": "stdout",
     "output_type": "stream",
     "text": [
      "2023-06-28 07:40:54.223300: I tensorflow/core/platform/cpu_feature_guard.cc:193] This TensorFlow binary is optimized with oneAPI Deep Neural Network Library (oneDNN) to use the following CPU instructions in performance-critical operations:  AVX2 FMA\n",
      "To enable them in other operations, rebuild TensorFlow with the appropriate compiler flags.\n",
      "2023-06-28 07:40:54.405614: E tensorflow/stream_executor/cuda/cuda_blas.cc:2981] Unable to register cuBLAS factory: Attempting to register factory for plugin cuBLAS when one has already been registered\n",
      "2023-06-28 07:40:54.992625: W tensorflow/stream_executor/platform/default/dso_loader.cc:64] Could not load dynamic library 'libnvinfer.so.7'; dlerror: libnvinfer.so.7: cannot open shared object file: No such file or directory\n",
      "2023-06-28 07:40:54.992761: W tensorflow/stream_executor/platform/default/dso_loader.cc:64] Could not load dynamic library 'libnvinfer_plugin.so.7'; dlerror: libnvinfer_plugin.so.7: cannot open shared object file: No such file or directory\n",
      "2023-06-28 07:40:54.992797: W tensorflow/compiler/tf2tensorrt/utils/py_utils.cc:38] TF-TRT Warning: Cannot dlopen some TensorRT libraries. If you would like to use Nvidia GPU with TensorRT, please make sure the missing libraries mentioned above are installed properly.\n",
      "Some weights of the model checkpoint at cl-tohoku/bert-base-japanese were not used when initializing BertModel: ['cls.seq_relationship.bias', 'cls.predictions.transform.dense.weight', 'cls.predictions.transform.dense.bias', 'cls.predictions.transform.LayerNorm.weight', 'cls.predictions.transform.LayerNorm.bias', 'cls.predictions.decoder.weight', 'cls.seq_relationship.weight', 'cls.predictions.bias']\n",
      "- This IS expected if you are initializing BertModel from the checkpoint of a model trained on another task or with another architecture (e.g. initializing a BertForSequenceClassification model from a BertForPreTraining model).\n",
      "- This IS NOT expected if you are initializing BertModel from the checkpoint of a model that you expect to be exactly identical (initializing a BertForSequenceClassification model from a BertForSequenceClassification model).\n",
      "Running ../testcollections/ntcir/NTCIR-1/topics/topic-td-0001-0083.utf8.tsv topics, saving to ../runs/ntcir17-transfer/train/MyRun-ANN-td-pyserini.res...\n",
      "100%|███████████████████████████████████████████| 83/83 [00:01<00:00, 43.81it/s]\n",
      "CPU times: user 195 ms, sys: 101 ms, total: 296 ms\n",
      "Wall time: 13.2 s\n"
     ]
    }
   ],
   "source": [
    "%%time\n",
    "!python -m pyserini.search.faiss \\\n",
    "  --index $INDEX/dense \\\n",
    "  --topics $TC/topics/topic-td-0001-0083.utf8.tsv \\\n",
    "  --output $RUN/MyRun-ANN-td-pyserini.res \\\n",
    "  --encoder-class auto \\\n",
    "  --encoder cl-tohoku/bert-base-japanese \\\n",
    "  --tokenizer cl-tohoku/bert-base-japanese \\\n",
    "  --device cuda:1 \\\n",
    "  --batch-size 32"
   ]
  },
  {
   "cell_type": "markdown",
   "id": "b7140fb7",
   "metadata": {},
   "source": [
    "### Evaluation 2"
   ]
  },
  {
   "cell_type": "code",
   "execution_count": 85,
   "id": "9e91cbac",
   "metadata": {
    "tags": []
   },
   "outputs": [],
   "source": [
    "denseDF_td = pt.io.read_results(os.getenv('RUN') + \"/MyRun-ANN-td-pyserini.res\")\n",
    "denseDF_td['qid'] = denseDF_td['qid'].str.zfill(4)"
   ]
  },
  {
   "cell_type": "code",
   "execution_count": 94,
   "id": "73ead839",
   "metadata": {
    "tags": []
   },
   "outputs": [
    {
     "data": {
      "text/html": [
       "<div>\n",
       "<style scoped>\n",
       "    .dataframe tbody tr th:only-of-type {\n",
       "        vertical-align: middle;\n",
       "    }\n",
       "\n",
       "    .dataframe tbody tr th {\n",
       "        vertical-align: top;\n",
       "    }\n",
       "\n",
       "    .dataframe thead th {\n",
       "        text-align: right;\n",
       "    }\n",
       "</style>\n",
       "<table border=\"1\" class=\"dataframe\">\n",
       "  <thead>\n",
       "    <tr style=\"text-align: right;\">\n",
       "      <th></th>\n",
       "      <th>name</th>\n",
       "      <th>nDCG</th>\n",
       "    </tr>\n",
       "  </thead>\n",
       "  <tbody>\n",
       "    <tr>\n",
       "      <th>0</th>\n",
       "      <td>BM25</td>\n",
       "      <td>0.532006</td>\n",
       "    </tr>\n",
       "    <tr>\n",
       "      <th>1</th>\n",
       "      <td>ANN(title)</td>\n",
       "      <td>0.008415</td>\n",
       "    </tr>\n",
       "    <tr>\n",
       "      <th>2</th>\n",
       "      <td>ANN(title+desc)</td>\n",
       "      <td>0.012440</td>\n",
       "    </tr>\n",
       "  </tbody>\n",
       "</table>\n",
       "</div>"
      ],
      "text/plain": [
       "              name      nDCG\n",
       "0             BM25  0.532006\n",
       "1       ANN(title)  0.008415\n",
       "2  ANN(title+desc)  0.012440"
      ]
     },
     "execution_count": 94,
     "metadata": {},
     "output_type": "execute_result"
    }
   ],
   "source": [
    "from pyterrier.measures import *\n",
    "pt.Experiment(\n",
    "    [baselineDF, denseDF, denseDF_td],\n",
    "    topics=dataset_pt.get_topics(),\n",
    "    qrels=dataset_pt.get_qrels(),\n",
    "    names=[\"BM25\", \"ANN(title)\", \"ANN(title+desc)\"],\n",
    "    eval_metrics=[nDCG]\n",
    ")"
   ]
  },
  {
   "cell_type": "markdown",
   "id": "8321d311",
   "metadata": {},
   "source": [
    "## Dense Retrieval (SentenceBERT + ANN)"
   ]
  },
  {
   "cell_type": "markdown",
   "id": "67c50659",
   "metadata": {},
   "source": [
    "### Embedding corpus"
   ]
  },
  {
   "cell_type": "code",
   "execution_count": 106,
   "id": "aa15546e",
   "metadata": {
    "tags": []
   },
   "outputs": [],
   "source": [
    "import torch\n",
    "with torch.no_grad():\n",
    "    torch.cuda.empty_cache()"
   ]
  },
  {
   "cell_type": "code",
   "execution_count": 107,
   "id": "11eadf06",
   "metadata": {
    "collapsed": true,
    "jupyter": {
     "outputs_hidden": true
    },
    "tags": []
   },
   "outputs": [
    {
     "name": "stdout",
     "output_type": "stream",
     "text": [
      "2023-06-28 08:36:37.730483: I tensorflow/core/platform/cpu_feature_guard.cc:193] This TensorFlow binary is optimized with oneAPI Deep Neural Network Library (oneDNN) to use the following CPU instructions in performance-critical operations:  AVX2 FMA\n",
      "To enable them in other operations, rebuild TensorFlow with the appropriate compiler flags.\n",
      "2023-06-28 08:36:37.904449: E tensorflow/stream_executor/cuda/cuda_blas.cc:2981] Unable to register cuBLAS factory: Attempting to register factory for plugin cuBLAS when one has already been registered\n",
      "2023-06-28 08:36:38.550662: W tensorflow/stream_executor/platform/default/dso_loader.cc:64] Could not load dynamic library 'libnvinfer.so.7'; dlerror: libnvinfer.so.7: cannot open shared object file: No such file or directory\n",
      "2023-06-28 08:36:38.550844: W tensorflow/stream_executor/platform/default/dso_loader.cc:64] Could not load dynamic library 'libnvinfer_plugin.so.7'; dlerror: libnvinfer_plugin.so.7: cannot open shared object file: No such file or directory\n",
      "2023-06-28 08:36:38.550911: W tensorflow/compiler/tf2tensorrt/utils/py_utils.cc:38] TF-TRT Warning: Cannot dlopen some TensorRT libraries. If you would like to use Nvidia GPU with TensorRT, please make sure the missing libraries mentioned above are installed properly.\n",
      "332918it [00:02, 111477.98it/s]\n",
      "100%|█████████████████████████████████████| 20808/20808 [38:08<00:00,  9.09it/s]\n",
      "CPU times: user 48.9 s, sys: 19.1 s, total: 1min 7s\n",
      "Wall time: 38min 36s\n"
     ]
    }
   ],
   "source": [
    "%%time\n",
    "torch.cuda.empty_cache() \n",
    "!python -m pyserini.encode \\\n",
    "  input   --corpus $TC/mlir/pyserini/jsonl/ntc1-j1.utf8.jsonl \\\n",
    "          --fields text \\\n",
    "          --delimiter \"\\n\" \\\n",
    "          --shard-id 0 \\\n",
    "          --shard-num 1 \\\n",
    "  output  --embeddings $TC/mlir/pyserini/embedding2 \\\n",
    "          --to-faiss \\\n",
    "  encoder --encoder sonoisa/sentence-bert-base-ja-mean-tokens-v2 \\\n",
    "          --encoder-class sentence-transformers \\\n",
    "          --fields text \\\n",
    "          --batch-size 16 \\\n",
    "          --max-length 512 \\\n",
    "          --device cuda:0 \\\n",
    "          --fp16"
   ]
  },
  {
   "cell_type": "code",
   "execution_count": 108,
   "id": "3254ba2d",
   "metadata": {
    "tags": []
   },
   "outputs": [
    {
     "name": "stdout",
     "output_type": "stream",
     "text": [
      "total 982M\n",
      "-rw-rw-r-- 1 jovyan users 5.8M Jun 28 09:14 docid\n",
      "-rw-rw-r-- 1 jovyan users 976M Jun 28 09:14 index\n"
     ]
    }
   ],
   "source": [
    "!ls -lh $TC/mlir/pyserini/embedding2"
   ]
  },
  {
   "cell_type": "markdown",
   "id": "b5e0ab69",
   "metadata": {},
   "source": [
    "### Indexing"
   ]
  },
  {
   "cell_type": "code",
   "execution_count": 109,
   "id": "4c1db02c",
   "metadata": {
    "tags": []
   },
   "outputs": [
    {
     "name": "stdout",
     "output_type": "stream",
     "text": [
      "(332918, 768)\n",
      "hnsw_add_vertices: adding 332918 elements on top of 0 (preset_levels=0)\n",
      "  max_level = 2\n",
      "Adding 7 elements at level 2\n",
      "Adding 1274 elements at level 1\n",
      "Adding 331637 elements at level 0\n",
      "Done in 581597.836 ms\n",
      "332918\n",
      "CPU times: user 12.3 s, sys: 1.42 s, total: 13.8 s\n",
      "Wall time: 10min 36s\n"
     ]
    }
   ],
   "source": [
    "%%time\n",
    "!python -m pyserini.index.faiss \\\n",
    "  --input $TC/mlir/pyserini/embedding2 \\\n",
    "  --output $INDEX/dense2 \\\n",
    "  --hnsw \\\n",
    "  --pq"
   ]
  },
  {
   "cell_type": "code",
   "execution_count": 110,
   "id": "13cbfc1a",
   "metadata": {
    "tags": []
   },
   "outputs": [
    {
     "name": "stdout",
     "output_type": "stream",
     "text": [
      "total 723M\n",
      "-rw-rw-r-- 1 jovyan users 5.8M Jun 28 09:15 docid\n",
      "-rw-rw-r-- 1 jovyan users 718M Jun 28 09:26 index\n"
     ]
    }
   ],
   "source": [
    "!ls -lh $INDEX/dense2"
   ]
  },
  {
   "cell_type": "markdown",
   "id": "1380932f",
   "metadata": {},
   "source": [
    "### Retrieval (title only)"
   ]
  },
  {
   "cell_type": "code",
   "execution_count": 111,
   "id": "38227d8e",
   "metadata": {
    "tags": []
   },
   "outputs": [],
   "source": [
    "import torch\n",
    "with torch.no_grad():\n",
    "    torch.cuda.empty_cache()"
   ]
  },
  {
   "cell_type": "code",
   "execution_count": 113,
   "id": "651ab898",
   "metadata": {
    "collapsed": true,
    "jupyter": {
     "outputs_hidden": true
    },
    "tags": []
   },
   "outputs": [
    {
     "name": "stdout",
     "output_type": "stream",
     "text": [
      "2023-06-28 09:28:23.764811: I tensorflow/core/platform/cpu_feature_guard.cc:193] This TensorFlow binary is optimized with oneAPI Deep Neural Network Library (oneDNN) to use the following CPU instructions in performance-critical operations:  AVX2 FMA\n",
      "To enable them in other operations, rebuild TensorFlow with the appropriate compiler flags.\n",
      "2023-06-28 09:28:23.962203: E tensorflow/stream_executor/cuda/cuda_blas.cc:2981] Unable to register cuBLAS factory: Attempting to register factory for plugin cuBLAS when one has already been registered\n",
      "2023-06-28 09:28:24.597994: W tensorflow/stream_executor/platform/default/dso_loader.cc:64] Could not load dynamic library 'libnvinfer.so.7'; dlerror: libnvinfer.so.7: cannot open shared object file: No such file or directory\n",
      "2023-06-28 09:28:24.598166: W tensorflow/stream_executor/platform/default/dso_loader.cc:64] Could not load dynamic library 'libnvinfer_plugin.so.7'; dlerror: libnvinfer_plugin.so.7: cannot open shared object file: No such file or directory\n",
      "2023-06-28 09:28:24.598218: W tensorflow/compiler/tf2tensorrt/utils/py_utils.cc:38] TF-TRT Warning: Cannot dlopen some TensorRT libraries. If you would like to use Nvidia GPU with TensorRT, please make sure the missing libraries mentioned above are installed properly.\n",
      "Running ../testcollections/ntcir/NTCIR-1/topics/topic0001-0083.utf8.tsv topics, saving to ../runs/ntcir17-transfer/train/MyRun-SBERT-pyserini.res...\n",
      "100%|███████████████████████████████████████████| 83/83 [00:02<00:00, 30.74it/s]\n",
      "CPU times: user 395 ms, sys: 144 ms, total: 538 ms\n",
      "Wall time: 22.8 s\n"
     ]
    }
   ],
   "source": [
    "%%time\n",
    "!python -m pyserini.search.faiss \\\n",
    "  --index $INDEX/dense2 \\\n",
    "  --topics $TC/topics/topic0001-0083.utf8.tsv \\\n",
    "  --output $RUN/MyRun-SBERT-pyserini.res \\\n",
    "  --encoder-class sentence \\\n",
    "  --encoder sonoisa/sentence-bert-base-ja-mean-tokens-v2 \\\n",
    "  --tokenizer sonoisa/sentence-bert-base-ja-mean-tokens-v2 \\\n",
    "  --device cuda:0 \\\n",
    "  --batch-size 16"
   ]
  },
  {
   "cell_type": "markdown",
   "id": "7d7ab66e",
   "metadata": {},
   "source": [
    "### Evaluation 3"
   ]
  },
  {
   "cell_type": "code",
   "execution_count": 114,
   "id": "160c398b",
   "metadata": {
    "tags": []
   },
   "outputs": [],
   "source": [
    "dense2DF = pt.io.read_results(os.getenv('RUN') + \"/MyRun-SBERT-pyserini.res\")\n",
    "dense2DF['qid'] = dense2DF['qid'].str.zfill(4)"
   ]
  },
  {
   "cell_type": "code",
   "execution_count": 115,
   "id": "c54c72c2",
   "metadata": {
    "tags": []
   },
   "outputs": [
    {
     "data": {
      "text/html": [
       "<div>\n",
       "<style scoped>\n",
       "    .dataframe tbody tr th:only-of-type {\n",
       "        vertical-align: middle;\n",
       "    }\n",
       "\n",
       "    .dataframe tbody tr th {\n",
       "        vertical-align: top;\n",
       "    }\n",
       "\n",
       "    .dataframe thead th {\n",
       "        text-align: right;\n",
       "    }\n",
       "</style>\n",
       "<table border=\"1\" class=\"dataframe\">\n",
       "  <thead>\n",
       "    <tr style=\"text-align: right;\">\n",
       "      <th></th>\n",
       "      <th>qid</th>\n",
       "      <th>docno</th>\n",
       "      <th>rank</th>\n",
       "      <th>score</th>\n",
       "      <th>name</th>\n",
       "    </tr>\n",
       "  </thead>\n",
       "  <tbody>\n",
       "    <tr>\n",
       "      <th>0</th>\n",
       "      <td>0001</td>\n",
       "      <td>gakkai-0000241510</td>\n",
       "      <td>1</td>\n",
       "      <td>-0.625328</td>\n",
       "      <td>Faiss</td>\n",
       "    </tr>\n",
       "    <tr>\n",
       "      <th>1</th>\n",
       "      <td>0001</td>\n",
       "      <td>gakkai-0000183593</td>\n",
       "      <td>2</td>\n",
       "      <td>-0.637275</td>\n",
       "      <td>Faiss</td>\n",
       "    </tr>\n",
       "    <tr>\n",
       "      <th>2</th>\n",
       "      <td>0001</td>\n",
       "      <td>gakkai-0000144389</td>\n",
       "      <td>3</td>\n",
       "      <td>-0.645404</td>\n",
       "      <td>Faiss</td>\n",
       "    </tr>\n",
       "    <tr>\n",
       "      <th>3</th>\n",
       "      <td>0001</td>\n",
       "      <td>gakkai-0000298172</td>\n",
       "      <td>4</td>\n",
       "      <td>-0.645452</td>\n",
       "      <td>Faiss</td>\n",
       "    </tr>\n",
       "    <tr>\n",
       "      <th>4</th>\n",
       "      <td>0001</td>\n",
       "      <td>gakkai-0000230011</td>\n",
       "      <td>5</td>\n",
       "      <td>-0.655468</td>\n",
       "      <td>Faiss</td>\n",
       "    </tr>\n",
       "    <tr>\n",
       "      <th>...</th>\n",
       "      <td>...</td>\n",
       "      <td>...</td>\n",
       "      <td>...</td>\n",
       "      <td>...</td>\n",
       "      <td>...</td>\n",
       "    </tr>\n",
       "    <tr>\n",
       "      <th>82995</th>\n",
       "      <td>0083</td>\n",
       "      <td>gakkai-0000186726</td>\n",
       "      <td>996</td>\n",
       "      <td>-1.047936</td>\n",
       "      <td>Faiss</td>\n",
       "    </tr>\n",
       "    <tr>\n",
       "      <th>82996</th>\n",
       "      <td>0083</td>\n",
       "      <td>gakkai-0000172806</td>\n",
       "      <td>997</td>\n",
       "      <td>-1.048079</td>\n",
       "      <td>Faiss</td>\n",
       "    </tr>\n",
       "    <tr>\n",
       "      <th>82997</th>\n",
       "      <td>0083</td>\n",
       "      <td>gakkai-0000267755</td>\n",
       "      <td>998</td>\n",
       "      <td>-1.048119</td>\n",
       "      <td>Faiss</td>\n",
       "    </tr>\n",
       "    <tr>\n",
       "      <th>82998</th>\n",
       "      <td>0083</td>\n",
       "      <td>gakkai-0000338233</td>\n",
       "      <td>999</td>\n",
       "      <td>-1.048172</td>\n",
       "      <td>Faiss</td>\n",
       "    </tr>\n",
       "    <tr>\n",
       "      <th>82999</th>\n",
       "      <td>0083</td>\n",
       "      <td>gakkai-0000189411</td>\n",
       "      <td>1000</td>\n",
       "      <td>-1.048378</td>\n",
       "      <td>Faiss</td>\n",
       "    </tr>\n",
       "  </tbody>\n",
       "</table>\n",
       "<p>83000 rows × 5 columns</p>\n",
       "</div>"
      ],
      "text/plain": [
       "        qid              docno  rank     score   name\n",
       "0      0001  gakkai-0000241510     1 -0.625328  Faiss\n",
       "1      0001  gakkai-0000183593     2 -0.637275  Faiss\n",
       "2      0001  gakkai-0000144389     3 -0.645404  Faiss\n",
       "3      0001  gakkai-0000298172     4 -0.645452  Faiss\n",
       "4      0001  gakkai-0000230011     5 -0.655468  Faiss\n",
       "...     ...                ...   ...       ...    ...\n",
       "82995  0083  gakkai-0000186726   996 -1.047936  Faiss\n",
       "82996  0083  gakkai-0000172806   997 -1.048079  Faiss\n",
       "82997  0083  gakkai-0000267755   998 -1.048119  Faiss\n",
       "82998  0083  gakkai-0000338233   999 -1.048172  Faiss\n",
       "82999  0083  gakkai-0000189411  1000 -1.048378  Faiss\n",
       "\n",
       "[83000 rows x 5 columns]"
      ]
     },
     "execution_count": 115,
     "metadata": {},
     "output_type": "execute_result"
    }
   ],
   "source": [
    "dense2DF"
   ]
  },
  {
   "cell_type": "code",
   "execution_count": 116,
   "id": "9404f7a3",
   "metadata": {
    "tags": []
   },
   "outputs": [
    {
     "data": {
      "text/html": [
       "<div>\n",
       "<style scoped>\n",
       "    .dataframe tbody tr th:only-of-type {\n",
       "        vertical-align: middle;\n",
       "    }\n",
       "\n",
       "    .dataframe tbody tr th {\n",
       "        vertical-align: top;\n",
       "    }\n",
       "\n",
       "    .dataframe thead th {\n",
       "        text-align: right;\n",
       "    }\n",
       "</style>\n",
       "<table border=\"1\" class=\"dataframe\">\n",
       "  <thead>\n",
       "    <tr style=\"text-align: right;\">\n",
       "      <th></th>\n",
       "      <th>name</th>\n",
       "      <th>nDCG</th>\n",
       "    </tr>\n",
       "  </thead>\n",
       "  <tbody>\n",
       "    <tr>\n",
       "      <th>0</th>\n",
       "      <td>BM25</td>\n",
       "      <td>0.532006</td>\n",
       "    </tr>\n",
       "    <tr>\n",
       "      <th>1</th>\n",
       "      <td>BERT(title)</td>\n",
       "      <td>0.008415</td>\n",
       "    </tr>\n",
       "    <tr>\n",
       "      <th>2</th>\n",
       "      <td>BERT(title+desc)</td>\n",
       "      <td>0.012440</td>\n",
       "    </tr>\n",
       "    <tr>\n",
       "      <th>3</th>\n",
       "      <td>SBERT(title)</td>\n",
       "      <td>0.292386</td>\n",
       "    </tr>\n",
       "  </tbody>\n",
       "</table>\n",
       "</div>"
      ],
      "text/plain": [
       "               name      nDCG\n",
       "0              BM25  0.532006\n",
       "1       BERT(title)  0.008415\n",
       "2  BERT(title+desc)  0.012440\n",
       "3      SBERT(title)  0.292386"
      ]
     },
     "execution_count": 116,
     "metadata": {},
     "output_type": "execute_result"
    }
   ],
   "source": [
    "from pyterrier.measures import *\n",
    "pt.Experiment(\n",
    "    [baselineDF, denseDF, denseDF_td, dense2DF],\n",
    "    topics=dataset_pt.get_topics(),\n",
    "    qrels=dataset_pt.get_qrels(),\n",
    "    names=[\"BM25\", \"BERT(title)\", \"BERT(title+desc)\", \"SBERT(title)\"],\n",
    "    eval_metrics=[nDCG]\n",
    ")"
   ]
  },
  {
   "cell_type": "markdown",
   "id": "952ca1a9",
   "metadata": {},
   "source": [
    "### Retrieval (title + desc)\n",
    "\n",
    "**NOTE** Only the title field is provided in the Dense First Stage Retrieval subtask at NTCIR-17 Transfer Task. The performance shown in this section is for reference only."
   ]
  },
  {
   "cell_type": "code",
   "execution_count": 117,
   "id": "36026c5e",
   "metadata": {
    "collapsed": true,
    "jupyter": {
     "outputs_hidden": true
    },
    "tags": []
   },
   "outputs": [
    {
     "name": "stdout",
     "output_type": "stream",
     "text": [
      "2023-06-28 09:32:38.189945: I tensorflow/core/platform/cpu_feature_guard.cc:193] This TensorFlow binary is optimized with oneAPI Deep Neural Network Library (oneDNN) to use the following CPU instructions in performance-critical operations:  AVX2 FMA\n",
      "To enable them in other operations, rebuild TensorFlow with the appropriate compiler flags.\n",
      "2023-06-28 09:32:38.357934: E tensorflow/stream_executor/cuda/cuda_blas.cc:2981] Unable to register cuBLAS factory: Attempting to register factory for plugin cuBLAS when one has already been registered\n",
      "2023-06-28 09:32:38.926317: W tensorflow/stream_executor/platform/default/dso_loader.cc:64] Could not load dynamic library 'libnvinfer.so.7'; dlerror: libnvinfer.so.7: cannot open shared object file: No such file or directory\n",
      "2023-06-28 09:32:38.926495: W tensorflow/stream_executor/platform/default/dso_loader.cc:64] Could not load dynamic library 'libnvinfer_plugin.so.7'; dlerror: libnvinfer_plugin.so.7: cannot open shared object file: No such file or directory\n",
      "2023-06-28 09:32:38.926548: W tensorflow/compiler/tf2tensorrt/utils/py_utils.cc:38] TF-TRT Warning: Cannot dlopen some TensorRT libraries. If you would like to use Nvidia GPU with TensorRT, please make sure the missing libraries mentioned above are installed properly.\n",
      "Running ../testcollections/ntcir/NTCIR-1/topics/topic-td-0001-0083.utf8.tsv topics, saving to ../runs/ntcir17-transfer/train/MyRun-SBERT-td-pyserini.res...\n",
      "100%|███████████████████████████████████████████| 83/83 [00:02<00:00, 28.68it/s]\n",
      "CPU times: user 300 ms, sys: 78.5 ms, total: 378 ms\n",
      "Wall time: 16.2 s\n"
     ]
    }
   ],
   "source": [
    "%%time\n",
    "!python -m pyserini.search.faiss \\\n",
    "  --index $INDEX/dense2 \\\n",
    "  --topics $TC/topics/topic-td-0001-0083.utf8.tsv \\\n",
    "  --output $RUN/MyRun-SBERT-td-pyserini.res \\\n",
    "  --encoder-class sentence \\\n",
    "  --encoder sonoisa/sentence-bert-base-ja-mean-tokens-v2 \\\n",
    "  --tokenizer sonoisa/sentence-bert-base-ja-mean-tokens-v2 \\\n",
    "  --device cuda:0 \\\n",
    "  --batch-size 16"
   ]
  },
  {
   "cell_type": "markdown",
   "id": "d7610158",
   "metadata": {},
   "source": [
    "### Evaluation 4"
   ]
  },
  {
   "cell_type": "code",
   "execution_count": 118,
   "id": "cd84eb15",
   "metadata": {
    "tags": []
   },
   "outputs": [],
   "source": [
    "dense2DF_td = pt.io.read_results(os.getenv('RUN') + \"/MyRun-SBERT-td-pyserini.res\")\n",
    "dense2DF_td['qid'] = dense2DF_td['qid'].str.zfill(4)"
   ]
  },
  {
   "cell_type": "code",
   "execution_count": 119,
   "id": "dc2b0a20",
   "metadata": {
    "tags": []
   },
   "outputs": [
    {
     "data": {
      "text/html": [
       "<div>\n",
       "<style scoped>\n",
       "    .dataframe tbody tr th:only-of-type {\n",
       "        vertical-align: middle;\n",
       "    }\n",
       "\n",
       "    .dataframe tbody tr th {\n",
       "        vertical-align: top;\n",
       "    }\n",
       "\n",
       "    .dataframe thead th {\n",
       "        text-align: right;\n",
       "    }\n",
       "</style>\n",
       "<table border=\"1\" class=\"dataframe\">\n",
       "  <thead>\n",
       "    <tr style=\"text-align: right;\">\n",
       "      <th></th>\n",
       "      <th>qid</th>\n",
       "      <th>docno</th>\n",
       "      <th>rank</th>\n",
       "      <th>score</th>\n",
       "      <th>name</th>\n",
       "    </tr>\n",
       "  </thead>\n",
       "  <tbody>\n",
       "    <tr>\n",
       "      <th>0</th>\n",
       "      <td>0001</td>\n",
       "      <td>gakkai-0000241512</td>\n",
       "      <td>1</td>\n",
       "      <td>-0.468825</td>\n",
       "      <td>Faiss</td>\n",
       "    </tr>\n",
       "    <tr>\n",
       "      <th>1</th>\n",
       "      <td>0001</td>\n",
       "      <td>gakkai-0000067968</td>\n",
       "      <td>2</td>\n",
       "      <td>-0.506423</td>\n",
       "      <td>Faiss</td>\n",
       "    </tr>\n",
       "    <tr>\n",
       "      <th>2</th>\n",
       "      <td>0001</td>\n",
       "      <td>gakkai-0000067257</td>\n",
       "      <td>3</td>\n",
       "      <td>-0.516469</td>\n",
       "      <td>Faiss</td>\n",
       "    </tr>\n",
       "    <tr>\n",
       "      <th>3</th>\n",
       "      <td>0001</td>\n",
       "      <td>gakkai-0000062729</td>\n",
       "      <td>4</td>\n",
       "      <td>-0.518317</td>\n",
       "      <td>Faiss</td>\n",
       "    </tr>\n",
       "    <tr>\n",
       "      <th>4</th>\n",
       "      <td>0001</td>\n",
       "      <td>gakkai-0000063518</td>\n",
       "      <td>5</td>\n",
       "      <td>-0.533578</td>\n",
       "      <td>Faiss</td>\n",
       "    </tr>\n",
       "    <tr>\n",
       "      <th>...</th>\n",
       "      <td>...</td>\n",
       "      <td>...</td>\n",
       "      <td>...</td>\n",
       "      <td>...</td>\n",
       "      <td>...</td>\n",
       "    </tr>\n",
       "    <tr>\n",
       "      <th>82995</th>\n",
       "      <td>0083</td>\n",
       "      <td>gakkai-0000314831</td>\n",
       "      <td>996</td>\n",
       "      <td>-0.948320</td>\n",
       "      <td>Faiss</td>\n",
       "    </tr>\n",
       "    <tr>\n",
       "      <th>82996</th>\n",
       "      <td>0083</td>\n",
       "      <td>gakkai-0000092062</td>\n",
       "      <td>997</td>\n",
       "      <td>-0.948396</td>\n",
       "      <td>Faiss</td>\n",
       "    </tr>\n",
       "    <tr>\n",
       "      <th>82997</th>\n",
       "      <td>0083</td>\n",
       "      <td>gakkai-0000188904</td>\n",
       "      <td>998</td>\n",
       "      <td>-0.948484</td>\n",
       "      <td>Faiss</td>\n",
       "    </tr>\n",
       "    <tr>\n",
       "      <th>82998</th>\n",
       "      <td>0083</td>\n",
       "      <td>gakkai-0000287401</td>\n",
       "      <td>999</td>\n",
       "      <td>-0.948498</td>\n",
       "      <td>Faiss</td>\n",
       "    </tr>\n",
       "    <tr>\n",
       "      <th>82999</th>\n",
       "      <td>0083</td>\n",
       "      <td>gakkai-0000189500</td>\n",
       "      <td>1000</td>\n",
       "      <td>-0.948499</td>\n",
       "      <td>Faiss</td>\n",
       "    </tr>\n",
       "  </tbody>\n",
       "</table>\n",
       "<p>83000 rows × 5 columns</p>\n",
       "</div>"
      ],
      "text/plain": [
       "        qid              docno  rank     score   name\n",
       "0      0001  gakkai-0000241512     1 -0.468825  Faiss\n",
       "1      0001  gakkai-0000067968     2 -0.506423  Faiss\n",
       "2      0001  gakkai-0000067257     3 -0.516469  Faiss\n",
       "3      0001  gakkai-0000062729     4 -0.518317  Faiss\n",
       "4      0001  gakkai-0000063518     5 -0.533578  Faiss\n",
       "...     ...                ...   ...       ...    ...\n",
       "82995  0083  gakkai-0000314831   996 -0.948320  Faiss\n",
       "82996  0083  gakkai-0000092062   997 -0.948396  Faiss\n",
       "82997  0083  gakkai-0000188904   998 -0.948484  Faiss\n",
       "82998  0083  gakkai-0000287401   999 -0.948498  Faiss\n",
       "82999  0083  gakkai-0000189500  1000 -0.948499  Faiss\n",
       "\n",
       "[83000 rows x 5 columns]"
      ]
     },
     "execution_count": 119,
     "metadata": {},
     "output_type": "execute_result"
    }
   ],
   "source": [
    "dense2DF_td"
   ]
  },
  {
   "cell_type": "code",
   "execution_count": 121,
   "id": "8b8b1514",
   "metadata": {
    "tags": []
   },
   "outputs": [
    {
     "data": {
      "text/html": [
       "<div>\n",
       "<style scoped>\n",
       "    .dataframe tbody tr th:only-of-type {\n",
       "        vertical-align: middle;\n",
       "    }\n",
       "\n",
       "    .dataframe tbody tr th {\n",
       "        vertical-align: top;\n",
       "    }\n",
       "\n",
       "    .dataframe thead th {\n",
       "        text-align: right;\n",
       "    }\n",
       "</style>\n",
       "<table border=\"1\" class=\"dataframe\">\n",
       "  <thead>\n",
       "    <tr style=\"text-align: right;\">\n",
       "      <th></th>\n",
       "      <th>name</th>\n",
       "      <th>nDCG</th>\n",
       "    </tr>\n",
       "  </thead>\n",
       "  <tbody>\n",
       "    <tr>\n",
       "      <th>0</th>\n",
       "      <td>BM25(title)</td>\n",
       "      <td>0.532006</td>\n",
       "    </tr>\n",
       "    <tr>\n",
       "      <th>1</th>\n",
       "      <td>BERT(title)</td>\n",
       "      <td>0.008415</td>\n",
       "    </tr>\n",
       "    <tr>\n",
       "      <th>2</th>\n",
       "      <td>BERT(title+desc)</td>\n",
       "      <td>0.012440</td>\n",
       "    </tr>\n",
       "    <tr>\n",
       "      <th>3</th>\n",
       "      <td>SBERT(title)</td>\n",
       "      <td>0.292386</td>\n",
       "    </tr>\n",
       "    <tr>\n",
       "      <th>4</th>\n",
       "      <td>SBERT(title+desc)</td>\n",
       "      <td>0.405270</td>\n",
       "    </tr>\n",
       "  </tbody>\n",
       "</table>\n",
       "</div>"
      ],
      "text/plain": [
       "                name      nDCG\n",
       "0        BM25(title)  0.532006\n",
       "1        BERT(title)  0.008415\n",
       "2   BERT(title+desc)  0.012440\n",
       "3       SBERT(title)  0.292386\n",
       "4  SBERT(title+desc)  0.405270"
      ]
     },
     "execution_count": 121,
     "metadata": {},
     "output_type": "execute_result"
    }
   ],
   "source": [
    "from pyterrier.measures import *\n",
    "pt.Experiment(\n",
    "    [baselineDF, denseDF, denseDF_td, dense2DF, dense2DF_td],\n",
    "    topics=dataset_pt.get_topics(),\n",
    "    qrels=dataset_pt.get_qrels(),\n",
    "    names=[\"BM25(title)\", \"BERT(title)\", \"BERT(title+desc)\", \"SBERT(title)\", \"SBERT(title+desc)\"],\n",
    "    eval_metrics=[nDCG]\n",
    ")"
   ]
  },
  {
   "cell_type": "markdown",
   "id": "9d1a4e27",
   "metadata": {},
   "source": [
    "---\n",
    "## Where can we go from here?"
   ]
  },
  {
   "cell_type": "markdown",
   "id": "6ce9159a",
   "metadata": {},
   "source": [
    "- Try different transformer models for embedding and retrieval.\n",
    "- Finetune BERT or Sentence BERT models using the train set or other reosources.\n",
    "- Expand a title with a generative model and do the retrieval with expanded queries (since title+desc has a better performance than title only)."
   ]
  }
 ],
 "metadata": {
  "environment": {
   "kernel": "python3",
   "name": "common-cpu.m102",
   "type": "gcloud",
   "uri": "gcr.io/deeplearning-platform-release/base-cpu:m102"
  },
  "kernelspec": {
   "display_name": "Python 3 (ipykernel)",
   "language": "python",
   "name": "python3"
  },
  "language_info": {
   "codemirror_mode": {
    "name": "ipython",
    "version": 3
   },
   "file_extension": ".py",
   "mimetype": "text/x-python",
   "name": "python",
   "nbconvert_exporter": "python",
   "pygments_lexer": "ipython3",
   "version": "3.9.7"
  }
 },
 "nbformat": 4,
 "nbformat_minor": 5
}
